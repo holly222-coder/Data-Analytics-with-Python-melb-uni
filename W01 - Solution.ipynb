{
 "cells": [
  {
   "cell_type": "raw",
   "metadata": {},
   "source": [
    "Let's play around with print() for a moment and write our first Python program with code rather than blocks. To write code, just click in the editor and start typing! First though, we suggest clicking the cog button in the top right of the editor to open preferences, and tick \"show line numbers\" since this will make it easier when dealing with longer programs.\n",
    "\n",
    "For this first problem, let's imagine we're in Spain. Write a Python program that prints the following text:\n",
    "\n",
    "Hola World!\n",
    "How are you?"
   ]
  },
  {
   "cell_type": "code",
   "execution_count": 1,
   "metadata": {},
   "outputs": [
    {
     "name": "stdout",
     "output_type": "stream",
     "text": [
      "Hola World!\n",
      "How are you?\n"
     ]
    }
   ],
   "source": [
    "print(\"Hola World!\")\n",
    "print(\"How are you?\")"
   ]
  },
  {
   "cell_type": "raw",
   "metadata": {},
   "source": [
    "Write a program that calculates and prints the factorial of 10"
   ]
  },
  {
   "cell_type": "code",
   "execution_count": 2,
   "metadata": {},
   "outputs": [
    {
     "name": "stdout",
     "output_type": "stream",
     "text": [
      "3628800\n"
     ]
    }
   ],
   "source": [
    "print(10 * 9 * 8 * 7 * 6 * 5 * 4 * 3 * 2 * 1)"
   ]
  },
  {
   "cell_type": "raw",
   "metadata": {},
   "source": [
    "In Western classical music, notes are named after the first seven letters of the alphabet: A B C D E F G. Imagine you have to write a very long piece of music and most notes are repeated. Having to type each letter many times in a row will be frustrating. For example, if a music piece has 10 As followed by 10 Ds followed by CEABC then it would look like: AAAAAAAAAADDDDDDDDDDCEABC. But as a Python programmer you can use the * and + operators to make life easy.\n",
    "\n",
    "For the same example above, instead of typing 10 As and 10 Ds, you can do the following:\n",
    "\n",
    " \n",
    "print('A' * 10 + 'D' * 10 + 'CEABC')\n",
    "For this exercise, write a program which prints a string of notes like the one above. Your string must start with CEGCEG followed by 26 E notes then finish with 34 C notes."
   ]
  },
  {
   "cell_type": "code",
   "execution_count": 3,
   "metadata": {},
   "outputs": [
    {
     "name": "stdout",
     "output_type": "stream",
     "text": [
      "CEGCEGEEEEEEEEEEEEEEEEEEEEEEEEEECCCCCCCCCCCCCCCCCCCCCCCCCCCCCCCCCC\n"
     ]
    }
   ],
   "source": [
    "print('CEGCEG' + 26 * 'E' + 34 * 'C')"
   ]
  },
  {
   "cell_type": "raw",
   "metadata": {},
   "source": [
    "Write a program that asks a user to enter their name, then prints a greeting for the user like this:\n",
    "\n",
    "Enter your name: Kim\n",
    "Bonjour Kim"
   ]
  },
  {
   "cell_type": "code",
   "execution_count": null,
   "metadata": {},
   "outputs": [],
   "source": [
    "name = input('Enter your name: ')\n",
    "print(\"Bonjour\", name)"
   ]
  }
 ],
 "metadata": {
  "kernelspec": {
   "display_name": "Python 3",
   "language": "python",
   "name": "python3"
  },
  "language_info": {
   "codemirror_mode": {
    "name": "ipython",
    "version": 3
   },
   "file_extension": ".py",
   "mimetype": "text/x-python",
   "name": "python",
   "nbconvert_exporter": "python",
   "pygments_lexer": "ipython3",
   "version": "3.8.5"
  }
 },
 "nbformat": 4,
 "nbformat_minor": 4
}
