{
 "cells": [
  {
   "cell_type": "raw",
   "metadata": {},
   "source": [
    "Write a single expression to calculate  \n",
    "1.395 × 10^5 + 5.55 × 10^2, and print the result as a float. The output of your program should look like this (but the number will be different!):"
   ]
  },
  {
   "cell_type": "code",
   "execution_count": null,
   "metadata": {},
   "outputs": [],
   "source": [
    "val1 = 1.395e5\n",
    "val2 = 5.55e2\n",
    "print(val1 + val2)"
   ]
  },
  {
   "cell_type": "raw",
   "metadata": {},
   "source": [
    "Write a Python program that asks the user for two numbers val1 and val2 using the input function, and prints their difference as a float.\n",
    "\n",
    "Enter val1: 6\n",
    "Enter val2: 3\n",
    "3.0\n",
    "Note that the inputs can also be of type float, or a mix of types float and int, e.g.:\n",
    "\n",
    "Enter val1: 4.0\n",
    "Enter val2: 3\n",
    "1.0\n",
    "Note also that the difference may be negative if the first is smaller than the second:\n",
    "\n",
    "Enter val1: 2.5\n",
    "Enter val2: 4.0\n",
    "-1.5"
   ]
  },
  {
   "cell_type": "code",
   "execution_count": null,
   "metadata": {},
   "outputs": [],
   "source": [
    "val1 = float(input(\"Enter val1: \"))\n",
    "val2 = float(input(\"Enter val2: \"))\n",
    "print(val1 - val2)"
   ]
  },
  {
   "cell_type": "code",
   "execution_count": null,
   "metadata": {},
   "outputs": [],
   "source": [
    "val1 = input(\"Enter val1: \")\n",
    "val2 = input(\"Enter val2: \")\n",
    "print(float(val1) - float(val2))"
   ]
  },
  {
   "cell_type": "raw",
   "metadata": {},
   "source": [
    "Write a Python program that asks the user for one integer time (a time in milliseconds), converts it to seconds, and prints the result with s as the units (for \"seconds\").\n",
    "\n",
    "Enter time in milliseconds: 3000\n",
    "3.0s"
   ]
  },
  {
   "cell_type": "code",
   "execution_count": null,
   "metadata": {},
   "outputs": [],
   "source": [
    "time_in_milliseconds = input(\"Enter time in milliseconds: \")\n",
    "time_in_s = int(time_in_milliseconds) / 1000\n",
    "time_as_str = str(time_in_s) + 's'\n",
    "print(time_as_str)"
   ]
  },
  {
   "cell_type": "code",
   "execution_count": null,
   "metadata": {},
   "outputs": [],
   "source": [
    "time = input(\"Enter time in milliseconds: \")\n",
    "print(str(int(time) / 1000) + 's')"
   ]
  },
  {
   "cell_type": "raw",
   "metadata": {},
   "source": [
    "It's been a long time since Frodo went out on his Big Adventure. He has lost track of time, and wonders whether it is his birthday yet. Luckily, he remembers exactly how many days have passed since he was born. To help Mr Frodo, write a Python program that asks the user for the number of days since they were born, and returns their age in years, and the number of days until their next birthday.\n",
    "\n",
    "Reminder: make sure you spell everything properly in the output!\n",
    "\n",
    "How many days have you lived? 3000\n",
    "You are 8 years young!\n",
    "You have 285 days until you next get to boogie down."
   ]
  },
  {
   "cell_type": "code",
   "execution_count": null,
   "metadata": {},
   "outputs": [],
   "source": [
    "days_lived = int(input(\"How many days have you lived? \"))\n",
    "years_old = days_lived//365\n",
    "days_to_bday = 365 - days_lived % 365\n",
    "message1 = \"You are \" + str(years_old) + \" years young!\"\n",
    "message2 = \"You have \" + str(days_to_bday) + \" days until you next get to boogie down.\"\n",
    "print(message1)\n",
    "print(message2)"
   ]
  },
  {
   "cell_type": "raw",
   "metadata": {},
   "source": [
    "Mr Frodo received lots of money for his Birthday. Mr Frodo decided to put it in the bank. Mr Frodo is clever. He knows that his interest will compound monthly at a rate of 4.5% p.a. Write a program that asks Mr Frodo how much he is investing, and for how long (in days), and prints the amount of money he will have after this amount of time.\n",
    "\n",
    "You should assume non-empty, integer inputs for both answers, and assume there are exactly 31 days in every month according to this bank.\n",
    "\n",
    "Your program should behave as follows:\n",
    "\n",
    "How much money would you like to invest, Mr Frodo? 10\n",
    "How many days would you like to invest this for? 10\n",
    "After that time you will have: $10.0\n",
    "How much money would you like to invest, Mr Frodo? 10\n",
    "How many days would you like to invest this for? 372\n",
    "After that time you will have: $10.459398250405895"
   ]
  },
  {
   "cell_type": "code",
   "execution_count": null,
   "metadata": {},
   "outputs": [],
   "source": [
    "RATE = 0.045\n",
    "amount = int(input(\"How much money would you like to invest, Mr Frodo? \"))\n",
    "time = int(input(\"How many days would you like to invest this for? \"))\n",
    "final_amount = amount*(1+RATE/12)**(time//31)\n",
    "print(\"After that time you will have: $\"+str(final_amount))"
   ]
  }
 ],
 "metadata": {
  "kernelspec": {
   "display_name": "Python 3",
   "language": "python",
   "name": "python3"
  },
  "language_info": {
   "codemirror_mode": {
    "name": "ipython",
    "version": 3
   },
   "file_extension": ".py",
   "mimetype": "text/x-python",
   "name": "python",
   "nbconvert_exporter": "python",
   "pygments_lexer": "ipython3",
   "version": "3.8.5"
  }
 },
 "nbformat": 4,
 "nbformat_minor": 4
}
