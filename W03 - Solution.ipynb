{
 "cells": [
  {
   "cell_type": "raw",
   "metadata": {},
   "source": [
    "Because we don't use 1 cent coins anymore, when you go buy things like petrol in cash, the amount is rounded up or down to the nearest 5 cents. For example if you put $5.57 worth of petrol in your car, it would get rounded down and you would pay $5.55 in cash (saving 2 cents!). But $5.58 worth of petrol would get rounded up and cost $5.60.\n",
    "\n",
    "Life hack: Always go for the option which is rounded down!\n",
    "\n",
    "Write a program that takes the cost of an item and tells you whether the cost stays the same or is rounded down (good, pay in cash), or was rounded up (bad, you should pay by card).\n",
    "\n",
    "The output of your program should look like this:\n",
    "\n",
    "How much does it cost? 5.57\n",
    "The price didn't change or was rounded down! Pay cash!\n",
    "How much does it cost? 5.58\n",
    "The price was rounded up! Pay card.\n",
    "How much does it cost? 3.21\n",
    "The price didn't change or was rounded down! Pay cash!\n",
    "How much does it cost? 3.21\n",
    "The price didn't change or was rounded down! Pay cash!"
   ]
  },
  {
   "cell_type": "code",
   "execution_count": null,
   "metadata": {},
   "outputs": [],
   "source": [
    "cost = float(input(\"How much does it cost? \"))\n",
    "remainder = int(cost*100)%5\n",
    "if remainder < 3:\n",
    "    print(\"The price didn't change or was rounded down! Pay cash!\")\n",
    "else:\n",
    "    print(\"The price was rounded up! Pay card.\")"
   ]
  },
  {
   "cell_type": "raw",
   "metadata": {},
   "source": [
    "Now let's test our skills to help out our friend Jon Snow from Game of Thrones. He is having a dull moment and wants to use an app to check if people entering his camp are enemies! Write a simple program that asks the user to enter a name and determines whether they are enemies or not.\n",
    "\n",
    "Fortunately for us, Jon Snow has two kinds of enemies: those who can't use phones, and those who will enter one of 0, 1 or 2, because in their language name means \"dial a number after the prompt\" (and they can't count past 2 ... although, somewhat suspiciously, they do have a zero in their number system). The enemies who can't use phones obviously won't enter anything, and should receive the following message: A luddite! GO AWAY AT ONCE!.\n",
    "\n",
    "The enemies who think that names are single-digit numbers (specifically 0, 1 or 2) should receive: HAHA! You may not pass!!.\n",
    "\n",
    "Everyone else receives: Welcome to the camp, [name], if that really is your name. Where [name] should be replaced by the user's name.\n",
    "\n",
    "Your program should behave as follows:\n",
    "\n",
    "Enter your name, soldier: \n",
    "A luddite! GO AWAY AT ONCE!\n",
    "\n",
    "Enter your name, soldier: 2\n",
    "HAHA! You may not pass!!\n",
    "\n",
    "Enter your name, soldier: kim\n",
    "Welcome to the camp, kim, if that really is your name."
   ]
  },
  {
   "cell_type": "code",
   "execution_count": null,
   "metadata": {},
   "outputs": [],
   "source": [
    "val = input(\"Enter your name, soldier: \")\n",
    "if val == '0' or val == '1' or val == '2':\n",
    "    print(\"HAHA! You may not pass!!\")\n",
    "elif val == \"\":\n",
    "    print(\"A luddite! GO AWAY AT ONCE!\")\n",
    "else:\n",
    "    print(\"Welcome to the camp, \" + val + \", if that really is your name.\")"
   ]
  },
  {
   "cell_type": "raw",
   "metadata": {},
   "source": [
    "It's hard to keep up with the pace of progress of science at times, with new(ish) fields of science with cool-sounding names including proteomics, quantum biology, and computational neurolinguistics. Your job in this exercise is to write a simple scientific \"classifier\" which takes the name of a field of science as input, and prints out a (pithy) comment as follows:\n",
    "\n",
    "if it ends with omics, your code should print Life science hipster!\n",
    "if it begins with comp or info, your code should print Computing ftw!\n",
    "if it ends with y, your code should print Au naturel!\n",
    "failing all these, your code should print Can't keep up!\n",
    "Note that for an input which matches multiple of these conditions, the first-listed matching condition should apply (and only one message should be printed out). You may assume that the input will consist entirely of lower-case characters and spaces\n",
    "\n",
    "Your program should work like this:\n",
    "\n",
    "Hit me: proteomics\n",
    "Life science hipster!\n",
    "\n",
    "Hit me: quantum biology\n",
    "Au naturel!\n",
    "\n",
    "Hit me: computational neurolinguistics\n",
    "Computing ftw!\n",
    "\n",
    "Hit me: cliodynamics\n",
    "Can't keep up!"
   ]
  },
  {
   "cell_type": "code",
   "execution_count": null,
   "metadata": {},
   "outputs": [],
   "source": [
    "name = \"^\" + input(\"Hit me: \") + \"$\"\n",
    "\n",
    "if \"omics$\" in name:\n",
    "    print(\"Life science hipster!\")\n",
    "elif \"^comp\" in name or \"^info\" in name:\n",
    "    print(\"Computing ftw!\")\n",
    "elif \"y$\" in name:\n",
    "    print(\"Au naturel!\")\n",
    "else:\n",
    "    print(\"Can't keep up!\")"
   ]
  },
  {
   "cell_type": "raw",
   "metadata": {},
   "source": [
    "Write a program which asks the user for a month of the year, as a number between 1 and 12. Your program must then print one of the following messages depending on the season the specific month falls in:\n",
    "\n",
    "It's summer. Have fun in the sun! if the number is 1, 2 or 12.\n",
    "It's autumn. Enjoy the beautiful sunsets! if the number is between 3 and 5 (inclusive).\n",
    "It's winter. Go skiing! if the number is between 6 and 8 (inclusive).\n",
    "It's spring. Check out the spring racing carnival! if the number is between 9 and 11 (inclusive).\n",
    "Your program should print an error message Invalid input. Please enter any number between 1 and 12. if any other number is encountered.\n",
    "For example:\n",
    "\n",
    "Enter the month (1-12): 2\n",
    "It's summer. Have fun in the sun!\n",
    "\n",
    "Enter the month (1-12): 4\n",
    "It's autumn. Enjoy the beautiful sunsets!\n",
    "\n",
    "Enter the month (1-12): 7\n",
    "It's winter. Go skiing!\n",
    "\n",
    "Enter the month (1-12): 10\n",
    "It's spring. Check out the spring racing carnival!\n",
    "\n",
    "Enter the month (1-12): 13\n",
    "Invalid input. Please enter any number between 1 and 1"
   ]
  },
  {
   "cell_type": "code",
   "execution_count": null,
   "metadata": {},
   "outputs": [],
   "source": [
    "month = int(input('Enter the month (1-12): '))\n",
    "if (1 <= month <= 2) or month == 12:\n",
    "    print(\"It's summer. Have fun in the sun!\")\n",
    "elif 3 <= month <= 5:\n",
    "    print(\"It's autumn. Enjoy the beautiful sunsets!\")\n",
    "elif 6 <= month <= 8:\n",
    "    print(\"It's winter. Go skiing!\")\n",
    "elif 9 <= month <= 11:\n",
    "    print(\"It's spring. Check out the spring racing carnival!\")\n",
    "else:\n",
    "    print(\"Invalid input. Please enter any number between 1 and 12.\")"
   ]
  }
 ],
 "metadata": {
  "kernelspec": {
   "display_name": "Python 3",
   "language": "python",
   "name": "python3"
  },
  "language_info": {
   "codemirror_mode": {
    "name": "ipython",
    "version": 3
   },
   "file_extension": ".py",
   "mimetype": "text/x-python",
   "name": "python",
   "nbconvert_exporter": "python",
   "pygments_lexer": "ipython3",
   "version": "3.8.5"
  }
 },
 "nbformat": 4,
 "nbformat_minor": 4
}
