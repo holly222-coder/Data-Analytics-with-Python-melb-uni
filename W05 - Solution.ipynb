{
 "cells": [
  {
   "cell_type": "raw",
   "metadata": {},
   "source": [
    "Time to write our first basic function.\n",
    "\n",
    "Write a function canner_can that takes a single argument item in the form of a string, and returns the string 'Can you can a [STRING] as a canner can can a can?', where '[STRING]' takes the value of item.\n",
    "\n",
    "The following are example calls to the function (displaying the output with print in each case), to illustrate its functionality:\n",
    "\n",
    ">>> print(canner_can(\"can\"))\n",
    "Can you can a can as a canner can can a can?\n",
    ">>> print(canner_can(\"apricot\"))\n",
    "Can you can a apricot as a canner can can a can?\n",
    ">>> print(canner_can(\"juicy tomato\"))\n",
    "Can you can a juicy tomato as a canner can can a can?"
   ]
  },
  {
   "cell_type": "code",
   "execution_count": 1,
   "metadata": {},
   "outputs": [],
   "source": [
    "def canner_can(item):\n",
    "    return \"Can you can a \" + item + \" as a canner can can a can?\""
   ]
  },
  {
   "cell_type": "raw",
   "metadata": {},
   "source": [
    "Having got the basics down pat, let's beef things up a bit more, building on our first function. You might have noticed in our first example that we produced strings such as \"a apricot\" rather than \"an apricot\". Let's fix this, based on the simple definition that the indefinite article should be an if it precedes a vowel, and a for all other inputs (remember the empty string input!).\n",
    "\n",
    "Write a function canner_can2 that takes a single argument item in the form of a string, and returns the string \"Can you can an [STRING] as a canner can can a can?\" (where [STRING] takes the value of item) if item starts with a vowel, and \"Can you can a [STRING] as a canner can can a can?\" otherwise. Note that the set of vowels in English is a, e, i, o and u, and that your function should be able to deal with both upper and lower-case letters.\n",
    "\n",
    "The following are example calls to the function (displaying the output with a print statement in each case), to illustrate its functionality:\n",
    "\n",
    ">>> print(canner_can2(\"can\"))\n",
    "Can you can a can as a canner can can a can?\n",
    "\n",
    ">>> print(canner_can2(\"apricot\"))\n",
    "Can you can an apricot as a canner can can a can?\n",
    "\n",
    ">>> print(canner_can2(\"AARGH\"))\n",
    "Can you can an AARGH as a canner can can a can?\n",
    "\n",
    ">>> print(canner_can2(\"\"))\n",
    "Can you can a  as a canner can can a can?"
   ]
  },
  {
   "cell_type": "code",
   "execution_count": 2,
   "metadata": {},
   "outputs": [],
   "source": [
    "def canner_can2(item):\n",
    "    # use 'an' if `item` is non-empty string starting with vowel\n",
    "    if item and item[0] in 'aeiouAEIOU':\n",
    "        item = \"an \" + item\n",
    "\n",
    "    # otherwise use 'a'\n",
    "    else:\n",
    "        item = \"a \" + item\n",
    "\n",
    "    return \"Can you can \" + item + \" as a canner can can a can?\""
   ]
  },
  {
   "cell_type": "raw",
   "metadata": {},
   "source": [
    "Write a function between_len that takes three arguments:\n",
    "\n",
    "a list words;\n",
    "an integer minlen; and\n",
    "an integer maxlen.\n",
    "The function should return True if the length of words is at least minlen and no more than maxlen, and False otherwise.\n",
    "\n",
    "The following are example calls to the function (displaying the output with a print() statement in each case), to illustrate its functionality:\n",
    "\n",
    "between_len([\"python\", \"is\", \"boring\"], 4, 7)\n",
    "False\n",
    "between_len([\"python\", \"is\", \"amazing\"], -1, 20)\n",
    "True\n",
    "between_len([\"python\", \"is\", \"amazing\"], minlen=3, maxlen=4)\n",
    "True"
   ]
  },
  {
   "cell_type": "code",
   "execution_count": 3,
   "metadata": {},
   "outputs": [],
   "source": [
    "def between_len(list, minlen, maxlen):\n",
    "    return minlen <= len(list) <= maxlen"
   ]
  },
  {
   "cell_type": "raw",
   "metadata": {},
   "source": [
    "Explore the methods for strings in the terminal using dir(\"hello world\"). With these in mind, write a function word_count(input_str) that takes a string as input and returns the number of words in the string. Your function should work like this:\n",
    "\n",
    ">>> word_count(\"There are 44 cows on a hill\")\n",
    "7\n",
    ">>> word_count(\"Quotes are handy things to have about, saving one from thinking for oneself which is always hard.\")\n",
    "17\n",
    ">>> word_count(\"\")\n",
    "0"
   ]
  },
  {
   "cell_type": "code",
   "execution_count": 4,
   "metadata": {},
   "outputs": [],
   "source": [
    "def word_count(input_str):\n",
    "    \"\"\"Returns the number of words in the input string input_str\"\"\"\n",
    "    return len(input_str.split())"
   ]
  }
 ],
 "metadata": {
  "kernelspec": {
   "display_name": "Python 3",
   "language": "python",
   "name": "python3"
  },
  "language_info": {
   "codemirror_mode": {
    "name": "ipython",
    "version": 3
   },
   "file_extension": ".py",
   "mimetype": "text/x-python",
   "name": "python",
   "nbconvert_exporter": "python",
   "pygments_lexer": "ipython3",
   "version": "3.8.5"
  }
 },
 "nbformat": 4,
 "nbformat_minor": 4
}
