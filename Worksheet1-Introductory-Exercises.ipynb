{
 "cells": [
  {
   "cell_type": "markdown",
   "metadata": {},
   "source": [
    "#  Worksheet 1: Introductory Exercises"
   ]
  },
  {
   "cell_type": "markdown",
   "metadata": {},
   "source": [
    "## Introduction to print\n",
    "\n",
    "OK, time to take a breath and then return back to the start to do everything over again in full technical detail. Onwards and upwards!\n",
    "\n",
    "Up until now, we have been playing around with turtles as a way of visualising the output of our programs, but there's more to computing than turtles (as much fun as turtles are!). A more conventional way to communicate the internal state of a program is via print statements such as the following:"
   ]
  },
  {
   "cell_type": "code",
   "execution_count": null,
   "metadata": {
    "scrolled": true
   },
   "outputs": [],
   "source": [
    "print(\"Hello world\")"
   ]
  },
  {
   "cell_type": "markdown",
   "metadata": {},
   "source": [
    "  What happens when you run the code?\n",
    "  \n",
    "\"print\" is one of Python's built-in functions. It is used to display messages to the person running the Python program."
   ]
  },
  {
   "cell_type": "markdown",
   "metadata": {},
   "source": [
    "Let's play around with print() for a moment and write our first Python program with code rather than blocks. To write code, just click in the editor and start typing! First though, we suggest clicking the cog button in the top right of the editor to open preferences, and tick \"show line numbers\" since this will make it easier when dealing with longer programs.\n",
    "\n",
    "For this first problem, let's imagine we're in Spain. Write a Python program that prints the following text:"
   ]
  },
  {
   "cell_type": "raw",
   "metadata": {},
   "source": [
    ">>> Hola World!\n",
    ">>> How are you?"
   ]
  },
  {
   "cell_type": "markdown",
   "metadata": {},
   "source": [
    "<span style=\"color:blue\">Hint: You have to get the program to print exactly the same text as shown above (spelling, casing and all) — you will get used to paying attention to minute details in the exercises in order to have your code accepted; coders are details people!</span>"
   ]
  },
  {
   "cell_type": "markdown",
   "metadata": {},
   "source": [
    "## Using Python as a calculator"
   ]
  },
  {
   "cell_type": "markdown",
   "metadata": {},
   "source": [
    "The fastest modern computers can do many quadrillions of basic numerical calculations per second. This has led to the term \"number crunching\", which describes programs which do lots of mathematical work. A famous number crunching application is Alpha Go, which was the first computer Go program to beat a professional Go player, in 2015.\n",
    "\n",
    "Python is particularly human-friendly when it comes to numerical calculations, and it can be used as a powerful calculator.\n",
    "\n",
    "You can type in expressions and it will calculate the answer for you (noting that the asterisk, or *, signifies multiplication):"
   ]
  },
  {
   "cell_type": "code",
   "execution_count": null,
   "metadata": {},
   "outputs": [],
   "source": [
    "print(3 * 2 + 2 - 1)"
   ]
  },
  {
   "cell_type": "markdown",
   "metadata": {},
   "source": [
    "Try editing the above example to do some sums (using +) and products (using *) of much larger numbers!"
   ]
  },
  {
   "cell_type": "markdown",
   "metadata": {},
   "source": [
    "<span style=\"color:green\">Fun Fact:\n",
    "While Aeroplanes enhance human walking ability (speed) by a factor of around 200, computers augment human calculation ability by a factor of more than 100 million!</span>"
   ]
  },
  {
   "cell_type": "markdown",
   "metadata": {},
   "source": [
    "## Order of operations"
   ]
  },
  {
   "cell_type": "markdown",
   "metadata": {},
   "source": [
    "As you've seen, in Python the asterisk (\\*) represents the multiplication operator, and + and - represent addition and subtraction, respectively. The order of operations is handled in the standard way, which means that multiplication is done before addition and subtraction. Try running the following example:"
   ]
  },
  {
   "cell_type": "code",
   "execution_count": null,
   "metadata": {},
   "outputs": [],
   "source": [
    "print(3 + 2 * 5 - 1)"
   ]
  },
  {
   "cell_type": "markdown",
   "metadata": {},
   "source": [
    "Since multiplication comes before addition, 2 * 5 is calculated first, giving 10. In programming terms, we say that multiplication has a __higher precedence__ than addition and subtraction. When two operations have the same precedence, such as addition and subtraction, the left one is done before the right one. Thus 3 is added to give 13, and then 1 is subtracted to give 12.\n",
    "\n",
    "You can use round brackets (also called __parentheses__) to make the order of operations explicit. This is necessary in cases where the standard order is not the one you want. For example, we could rewrite the previous expression to calculate something different by using some parentheses:"
   ]
  },
  {
   "cell_type": "code",
   "execution_count": null,
   "metadata": {},
   "outputs": [],
   "source": [
    "print((3 + 2) * (5 - 1))\n",
    "print(3 + 2 * (5 - 1))        "
   ]
  },
  {
   "cell_type": "markdown",
   "metadata": {
    "collapsed": true
   },
   "source": [
    "Try running the following example (noting that \"/\" signifies division):"
   ]
  },
  {
   "cell_type": "code",
   "execution_count": null,
   "metadata": {},
   "outputs": [],
   "source": [
    "print(18 / 6 / 3 )\n",
    "print(18 / (6 / 3))"
   ]
  },
  {
   "cell_type": "markdown",
   "metadata": {},
   "source": [
    "The results are different, as discussed on the previous slide. See if you can convince yourself that Python is doing the correct calculation in each case."
   ]
  },
  {
   "cell_type": "markdown",
   "metadata": {},
   "source": [
    "<span style=\"color:green\">\n",
    "Why the decimal place?\n",
    "\n",
    "You may have noticed that these results both have decimal places, whereas the results of addition, subtraction and multiplication over integers were always integers (without decimal places). For the time being, think of this as Python being clever and knowing that addition, subtraction and multiplication of integers (whole numbers) will always produce an integer, but equally knowing that division might result in a non-integer value, such as 3/2.</span>\n"
   ]
  },
  {
   "cell_type": "markdown",
   "metadata": {},
   "source": [
    "The factorial of some number n is obtained by multiplying all the numbers between 1 and n. For example, the factorial of 7 is: \n",
    "\n",
    "7×6×5×4×3×2×1=5040. \n",
    "\n",
    "Write a program that calculates and prints the factorial of 10."
   ]
  },
  {
   "cell_type": "markdown",
   "metadata": {},
   "source": [
    "<span style=\"color:blue\">\n",
    "Hint\n",
    "\n",
    "You must check that your program works by clicking the <i>Run</i> button below the text editor before you can submit your answer using the <i>Mark</i> button\n",
    "</span>"
   ]
  },
  {
   "cell_type": "markdown",
   "metadata": {},
   "source": [
    "Write a program that calculates and prints the results of the following two equations:"
   ]
  },
  {
   "cell_type": "code",
   "execution_count": null,
   "metadata": {},
   "outputs": [],
   "source": [
    "5×8+(30−18)/2\n",
    "\n",
    "5×8+30−18/2"
   ]
  },
  {
   "cell_type": "markdown",
   "metadata": {},
   "source": [
    "<span style=\"color:blue\">Hint: \n",
    "Remember your program must print two lines of output, one for the result of each equation.</span>"
   ]
  },
  {
   "cell_type": "markdown",
   "metadata": {},
   "source": [
    "## Comments\n",
    "\n",
    "When you write a program it is almost certain that someone else will want to read it (as abhorrent as that may be when first starting out with programming!). You will probably even read back over your own code some time after it was first written, when it is no longer fresh in your mind. Therefore, you should try to make your programs easy to understand. One thing you can do to improve the readability of your code is to add comments to it.\n",
    "\n",
    "A __comment__ is a plain language description of what a block of code does (and sometimes what it doesn't do, in terms of assumptions you have made in your code) which is only intended to be read by a human; the Python interpreter simply ignores all comments. Comments provide additional information to the reader of the program, such as who it was written by, what it is supposed to do, and how it works. A # character indicates the start of a comment."
   ]
  },
  {
   "cell_type": "code",
   "execution_count": null,
   "metadata": {},
   "outputs": [],
   "source": [
    "# This is a comment. Below is a line of code:\n",
    "print(\"This is a line of code, not a comment\")\n",
    "# The next line looks like a command but isn't!\n",
    "#print(\"This won't print if you try to run it!\")"
   ]
  },
  {
   "cell_type": "markdown",
   "metadata": {},
   "source": [
    "As you can see in the above example, syntax __highlighting__ (i.e. using different colours to represent different constructs in your code) can be a strong visual cue when browsing over code, in distinguishing between code and comments.\n",
    "\n",
    "You can put comments inside your solutions to exercises explaining how they work (although it is not mandatory). You should certainly add comments to any code you write for the projects later in semester."
   ]
  },
  {
   "cell_type": "markdown",
   "metadata": {},
   "source": [
    "## Errors\n",
    "\n",
    "Occasionally you may write something which Python does not understand. The most basic kind of mistake you can make is a syntax error. A syntax error occurs when you type something which is not properly formed, according to the rules of the programming language. It is the same as make (sic!) a grammatical error in English (or any natural language for that matter).\n",
    "\n",
    "Here is an example of a syntax error:"
   ]
  },
  {
   "cell_type": "code",
   "execution_count": null,
   "metadata": {},
   "outputs": [],
   "source": [
    "print \"Hello world\""
   ]
  },
  {
   "cell_type": "markdown",
   "metadata": {},
   "source": [
    "We can see that the error message specifies where the error occured (__line 1__) and prints out the line with a circumflex (^) pointing at where it thinks the problem is. In this case, that location is not very useful, but in other cases it will point to the part of the line which is causing errors. The last line is a description of the error, which can be as vague as this: there is some invalid syntax here!\n",
    "\n",
    "The problem is that to pass a value, such as the text __Hello world__, to a Python function like print() you are required to enclose the value in parentheses like this:"
   ]
  },
  {
   "cell_type": "code",
   "execution_count": null,
   "metadata": {},
   "outputs": [],
   "source": [
    "print(\"Hello world\")"
   ]
  },
  {
   "cell_type": "markdown",
   "metadata": {},
   "source": [
    "<span style=\"color:green\">\n",
    "Decoding Error Messages\n",
    "\n",
    "The error messages from Python might seem a bit baffling at first, but you get used to them with experience. If you encounter an error that you do not understand you should ask for help from a tutor or demonstrator. If you are working on your own, you can often find out more information about the error by pasting it into a web search engine.</span>"
   ]
  },
  {
   "cell_type": "markdown",
   "metadata": {},
   "source": [
    "## Strings"
   ]
  },
  {
   "cell_type": "markdown",
   "metadata": {},
   "source": [
    "You've seen how Python can be used to manipulate numbers, but it is also useful to be able to manipulate text. For instance, you saw text at the very start of this module when using the print() function to display messages for the user. Text can be used to store words, but it can also store many other kinds of symbols — basically all the symbols on your keyboard (and many, many more).\n",
    "\n",
    "The things you type into a Python program are expected to be Python commands. This raises an interesting issue for representing text. For example, suppose you want to represent the words Hello World as text inside a Python program. If you type them as is into the program directly, Python will try to treat those words as names in the Python language:"
   ]
  },
  {
   "cell_type": "code",
   "execution_count": null,
   "metadata": {},
   "outputs": [],
   "source": [
    "print(Hello, world)"
   ]
  },
  {
   "cell_type": "markdown",
   "metadata": {},
   "source": [
    "You get a name error, because __Hello__ is not a Python command (though we will see soon how you can define and use Python names like __Hello!__). The solution is to enclose the text in quotation marks; that way it can be clearly distinguished from ordinary Python code. We say that the quotation marks act as __delimiters__, which means they mark the start and end limits of pieces of text."
   ]
  },
  {
   "cell_type": "code",
   "execution_count": null,
   "metadata": {},
   "outputs": [],
   "source": [
    "print(\"Hello, world\")"
   ]
  },
  {
   "cell_type": "markdown",
   "metadata": {},
   "source": [
    "<span style=\"color:green\">Python Strings\n",
    "    \n",
    "The word string is used to describe a piece of text inside quotes. </span>"
   ]
  },
  {
   "cell_type": "markdown",
   "metadata": {},
   "source": [
    "## String quotes"
   ]
  },
  {
   "cell_type": "markdown",
   "metadata": {},
   "source": [
    "Strings can be surrounded in either single quotation marks (\"'\") or double quotation marks (\"\"\"), providing that the same ones are used at the start and end of a particular string:"
   ]
  },
  {
   "cell_type": "code",
   "execution_count": null,
   "metadata": {},
   "outputs": [],
   "source": [
    "print(\"Hello, world\")\n",
    "print('Hello, world')"
   ]
  },
  {
   "cell_type": "markdown",
   "metadata": {},
   "source": [
    "The reason why Python allows both single and double quotes is rather subtle. Suppose you want to represent a piece of text which contains a single quote character inside it. That is, the quote character is actually part of the text, and not intended to mark the start or end of the string. For instance, you might want to represent the string G'day Mate. Note the use of the single quote (the apostrophe) just after the letter G. What do you think would happen if we used single quote marks around the whole string?"
   ]
  },
  {
   "cell_type": "code",
   "execution_count": null,
   "metadata": {},
   "outputs": [],
   "source": [
    "print(\"G'day Mate\")\n",
    "print('G'day Mate')"
   ]
  },
  {
   "cell_type": "markdown",
   "metadata": {},
   "source": [
    "It works the other way around too: if you want to have a double quote character inside a string, you should use single quotes as the string delimiters.\n",
    "\n",
    "You will get a syntax error if your quotation marks do not match up properly, for example if you start a string with double quotes, and end it with a single quote. See what happens when you run this program:"
   ]
  },
  {
   "cell_type": "code",
   "execution_count": null,
   "metadata": {},
   "outputs": [],
   "source": [
    "print('Hello, world\")"
   ]
  },
  {
   "cell_type": "markdown",
   "metadata": {},
   "source": [
    "<span style=\"color:green\">\n",
    "Triple Quotes:\n",
    "\n",
    "A \"safer\" way again (in terms of inadvertently ending the string mid-string) to format strings is by using a triple quotation mark at the start and end of the string, e.g. \"\"\"Hello, world\"\"\" or '''Hello, world'''. We will see lots of triple-quoted strings later in the subject, in the context of documenting functions.<span>\n"
   ]
  },
  {
   "cell_type": "markdown",
   "metadata": {},
   "source": [
    "## String operations"
   ]
  },
  {
   "cell_type": "markdown",
   "metadata": {},
   "source": [
    "One elegant aspect of Python is that it allows you to perform calculator-like operations on strings. For example, you can \"add\" two strings together using the + operator."
   ]
  },
  {
   "cell_type": "code",
   "execution_count": null,
   "metadata": {},
   "outputs": [],
   "source": [
    "print(\"Hello\" + \"World\")"
   ]
  },
  {
   "cell_type": "markdown",
   "metadata": {},
   "source": [
    "When applied to strings, the + operation is called __concatenation__. It produces a new string that is a copy of the two original strings pasted together end-to-end. Notice that concatenation doesn't do anything clever like insert a space between the words. The Python interpreter has no way of knowing that you want a space; it does exactly what it is told. Given what you have seen with +, you might be able guess what multiplication over strings will do:"
   ]
  },
  {
   "cell_type": "code",
   "execution_count": null,
   "metadata": {},
   "outputs": [],
   "source": [
    "print('Hi' + 'Hi' + 'Hi')\n",
    "print('Hi' * 3)"
   ]
  },
  {
   "cell_type": "markdown",
   "metadata": {},
   "source": [
    "Musical Notes\n",
    "\n",
    "In Western classical music, notes are named after the first seven letters of the alphabet: A B C D E F G. Imagine you have to write a very long piece of music and most notes are repeated. Having to type each letter many times in a row will be frustrating. For example, if a music piece has 10 As followed by 10 Ds followed by CEABC then it would look like: AAAAAAAAAADDDDDDDDDDCEABC. But as a Python programmer you can use the * and + operators to make life easy.\n",
    "\n",
    "For the same example above, instead of typing 10 As and 10 Ds, you can do the following:"
   ]
  },
  {
   "cell_type": "code",
   "execution_count": null,
   "metadata": {},
   "outputs": [],
   "source": [
    "print('A' * 10 + 'D' * 10 + 'CEABC')"
   ]
  },
  {
   "cell_type": "markdown",
   "metadata": {},
   "source": [
    "For this exercise, write a program which prints a string of notes like the one above. Your string must start with CEGCEG followed by 26 E notes then finish with 34 C notes."
   ]
  },
  {
   "cell_type": "markdown",
   "metadata": {},
   "source": [
    "## Variables"
   ]
  },
  {
   "cell_type": "markdown",
   "metadata": {},
   "source": [
    "You can store and reuse a previously computed value using a variable. Each variable corresponds to a location in the computer's memory, and each variable has its own name. Variables are created in Python using an operation called assignment which gives the variable the value it should remember:"
   ]
  },
  {
   "cell_type": "code",
   "execution_count": null,
   "metadata": {},
   "outputs": [],
   "source": [
    "message = \"Hello world\"\n",
    "print(message)"
   ]
  },
  {
   "cell_type": "markdown",
   "metadata": {},
   "source": [
    "In the first line above a variable called __message__ is created, and the value 'Hello World' (a string of text) is assigned to it. The = symbol is called the __assignment operator__, which assigns the value of the expression on the right to the variable on the left. In the second line above, the value of the variable is inspected by asking Python to print it out. Note that the variable is referred to by its name, which is __message__, but the variable name is not printed: its value is printed. The output of the program above shows us what the value of __message__ was at the time it was printed."
   ]
  },
  {
   "cell_type": "markdown",
   "metadata": {},
   "source": [
    "<span style=\"color:green\">\n",
    "Note\n",
    "\n",
    "The technical word for the *name* of a variable is __identifier__. The technical term for values, like \"hello\", 42, 3.0 is __literals__. You may see this in error messages. </span>\n"
   ]
  },
  {
   "cell_type": "markdown",
   "metadata": {},
   "source": [
    "## Using variables"
   ]
  },
  {
   "cell_type": "markdown",
   "metadata": {},
   "source": [
    "Variables stand in for values, so instead of writing 'Hi' * 3, we could assign variable msg the value 'Hi', and num the value 3, then perform the string multiplication using the variable names. Try running it yourself:"
   ]
  },
  {
   "cell_type": "code",
   "execution_count": null,
   "metadata": {},
   "outputs": [],
   "source": [
    "msg = 'Hi'\n",
    "num = 3\n",
    "print(msg * num)"
   ]
  },
  {
   "cell_type": "markdown",
   "metadata": {},
   "source": [
    "The choice of variable names is up to the person who writes the program; here are some more unusual choices that could be made:"
   ]
  },
  {
   "cell_type": "code",
   "execution_count": null,
   "metadata": {},
   "outputs": [],
   "source": [
    "donkey = 'Oi-'\n",
    "plargleflarp = 3\n",
    "print(donkey * plargleflarp)"
   ]
  },
  {
   "cell_type": "markdown",
   "metadata": {},
   "source": [
    "Of course __donkey__ and __plargleflarp__ are silly names, and you should try to pick ones which are meaningful in the context of your program. This will help to make your program more comprehensible. Python does not try to make sense of the names; it blindly follows your instructions, and does not object if you do something potentially confusing such as assigning a variable __two__ the value 3, like this:"
   ]
  },
  {
   "cell_type": "code",
   "execution_count": null,
   "metadata": {},
   "outputs": [],
   "source": [
    "two = 3\n",
    "print(two)"
   ]
  },
  {
   "cell_type": "markdown",
   "metadata": {},
   "source": [
    "## Updating variables"
   ]
  },
  {
   "cell_type": "markdown",
   "metadata": {},
   "source": [
    "Note that you can also assign a new value to a variable just by using assignment again:"
   ]
  },
  {
   "cell_type": "code",
   "execution_count": null,
   "metadata": {},
   "outputs": [],
   "source": [
    "msg = 'Bye'\n",
    "msg = msg * 2 \n",
    "print(msg)"
   ]
  },
  {
   "cell_type": "markdown",
   "metadata": {},
   "source": [
    "In the above example, the following three operations are performed in order:\n",
    "    1. The string 'Bye' is assigned to the variable msg.\n",
    "    2. The expression msg * 2 is calculated, using the current value of msg. This gives the string 'ByeBye'. This new value is assigned to the variable msg, thus overwriting its old value with the new one.\n",
    "    3. The value of msg is printed out, giving the output ByeBye."
   ]
  },
  {
   "cell_type": "markdown",
   "metadata": {},
   "source": [
    "<span style=\"color:green\">Out with the old\n",
    "\n",
    "When a variable is assigned a new value, its old value is forgotten. </span>"
   ]
  },
  {
   "cell_type": "markdown",
   "metadata": {},
   "source": [
    "## Naming variables\n",
    "\n",
    "While we said that you could name your variables anything, in practice, you need to be a bit careful in your choice of variable names, and be aware of some restrictions that Python places on variable names. Here are the rules you must follow:\n",
    "\n",
    "1. Variable names must start with either an alphabetic letter or an underscore (`_`).\n",
    "2. The rest of the name can contain zero or more occurrences of the following things:\n",
    "    * Digits (`0` to `9`).\n",
    "    * Alphabetic letters.\n",
    "    * Underscores.\n",
    "3. Nothing else is allowed in a variable name. Here is a (incomplete) list of the things\n",
    "you can't use anywhere in a variable name:\n",
    "    * Whitespace characters (the space, tab, new line).\n",
    "    * Hyphens (`-`)\n",
    "    * Quotation marks (single or double)\n",
    "    * Symbol characters such as: the question mark, the exclamation mark, brackets, and so forth.\n",
    "4. The following words having special meaning in Python, and so they cannot be used for\n",
    "variable names: `and`, `as`, `assert`, `break`, `class`, `continue`, `def`, `del`, `elif`, `else`, `except`, `False`, `finally`, `for`, `from`, `global`, `if`, `import`, `in`, `is`, `lambda`, `None`, `nonlocal`, `not`, `or`, `pass`, `raise`, `return`, `True`, `try`, `while`, `with`, `yield`."
   ]
  },
  {
   "cell_type": "markdown",
   "metadata": {},
   "source": [
    "<span style=\"color:green\">Python keywords\n",
    "\n",
    "The special words listed above (and, del, from, etc.) are called __keywords__. You cannot use them as variable names because Python uses them for special purposes. It is easy to tell which words are keywords if you use Grok, since they are helpfully coloured. You will see uses of many of the keywords later in the subject. The name of the print() function you saw earlier is not a keyword. Python would allow you to assign a new value to the name print as a variable, but it would be a bad idea to do so as you would lose the original meaning of the function!</span>"
   ]
  },
  {
   "cell_type": "markdown",
   "metadata": {},
   "source": [
    "## Long lines"
   ]
  },
  {
   "cell_type": "markdown",
   "metadata": {},
   "source": [
    "You should try to name your variables with clear, descriptive names in lower case, with words separated by underscores. Eg: __my_var__ not __a1__. But what if my super-clear names are really long, you ask? Well there's a great solution for that. If you want a statement to continue over multiple lines you just write a backslash (\\, sometimes called an __escape character__) at the end of the line, and continue writing."
   ]
  },
  {
   "cell_type": "code",
   "execution_count": null,
   "metadata": {},
   "outputs": [],
   "source": [
    "my_really_really_clear_name = 7*4+4+4+9*4+\\\n",
    "                                4-3-3-3-3-3\n",
    "print(my_really_really_clear_name)"
   ]
  },
  {
   "cell_type": "markdown",
   "metadata": {},
   "source": [
    "Wow, such clarity."
   ]
  },
  {
   "cell_type": "markdown",
   "metadata": {},
   "source": [
    "<span style=\"color:green\">Brackets and long lines\n",
    "\n",
    "If you're between a pair of brackets and break to a new line, you don't need an escape character\" Python knows you must be in the middle of a statement and will continue to read over the line.\n",
    "\n",
    "print(\"This is a very very very\",\n",
    "\n",
    "   \"very very very long statement\") </span>"
   ]
  },
  {
   "cell_type": "markdown",
   "metadata": {},
   "source": [
    "## The input() function"
   ]
  },
  {
   "cell_type": "markdown",
   "metadata": {},
   "source": [
    "Python has a built-in function called __input()__ that can be used to get keyboard input from the user as a string. The __input__ function can be given a message to display, usually prompting the user with what kind of information the program wants. Try running the following program and type in an answer to each question:"
   ]
  },
  {
   "cell_type": "code",
   "execution_count": null,
   "metadata": {},
   "outputs": [],
   "source": [
    "name = input(\"What is your name? \")\n",
    "age = input(\"What is your age? \")\n",
    "print(\"I know that\", name, \"is\", age, \"years old!\")"
   ]
  },
  {
   "cell_type": "markdown",
   "metadata": {},
   "source": [
    "Note that we have called the __print()__ function with multiple strings here (some variables and some \"literals\"), separated by commas. More formally, we have called the function with multiple __arguments__. print combines the arguments together into a single output, separating each adjacent pair or arguments with a space.\n",
    "\n",
    "In this way, we can write a Python program that performs the same operation or function on different input data. Try running the program above a few more times, typing in different names and ages."
   ]
  },
  {
   "cell_type": "markdown",
   "metadata": {},
   "source": [
    "<span style=\"color:green\">\n",
    "Meaningful variable names\n",
    "\n",
    "Notice that the program above remembers the text typed by the user in the program by using variables. We called the variables __name__ to remember the first input and __age__ to remember the second. We could have used any valid Python variable name, but these names are good because they describe what kind of value they represent.</span>\n"
   ]
  },
  {
   "cell_type": "markdown",
   "metadata": {},
   "source": [
    "Exercise: Write a program that asks a user to enter their name, then prints a greeting for the user like this:"
   ]
  },
  {
   "cell_type": "raw",
   "metadata": {},
   "source": [
    "Enter your name: Kim\n",
    ">>> Bonjour Kim"
   ]
  }
 ],
 "metadata": {
  "kernelspec": {
   "display_name": "Python 3",
   "language": "python",
   "name": "python3"
  },
  "language_info": {
   "codemirror_mode": {
    "name": "ipython",
    "version": 3
   },
   "file_extension": ".py",
   "mimetype": "text/x-python",
   "name": "python",
   "nbconvert_exporter": "python",
   "pygments_lexer": "ipython3",
   "version": "3.6.9"
  }
 },
 "nbformat": 4,
 "nbformat_minor": 1
}
