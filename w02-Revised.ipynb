{
 "cells": [
  {
   "cell_type": "markdown",
   "metadata": {},
   "source": [
    "# Expressions"
   ]
  },
  {
   "cell_type": "markdown",
   "metadata": {},
   "source": [
    "In programming, **expressions** are a key concept, and make up most of how we do anything. For example, \n",
    "` 5.0 + 2.3` and `\"Hel\" + \"lo\"` areal simple expressions. More generally, a **simple expression** can be composed of two **operands** such as two numbers, and one **operator** such as addition or multiplication: operands are the numbers, values, or variables that we wish to manipulate; an operator performs an action on those operands like computing a result. The general form of a simple expression is:\n",
    "\n",
    "`operand1  operator  operand2`\n",
    "\n",
    "An expression <emph>always</emph> returns a value, which could, e.g., be a number or a string. This value can in turn be assigned to a variable. Here are some more examples; run the code and see the output:"
   ]
  },
  {
   "cell_type": "code",
   "execution_count": 1,
   "metadata": {},
   "outputs": [
    {
     "name": "stdout",
     "output_type": "stream",
     "text": [
      "10\n",
      "25\n"
     ]
    }
   ],
   "source": [
    "y = 3 + 7\n",
    "print(y)\n",
    "b = 5 * 5\n",
    "print(b)"
   ]
  },
  {
   "cell_type": "markdown",
   "metadata": {},
   "source": [
    "Not everything in Python is an expression: the assignment statement, e.g. ```x = 5```, is not an expression and therefore can't be used at a position in your program where you need a value:\n",
    "\n",
    "```python\n",
    "y = 3 + (x = 5)\n",
    "\n",
    "```\n",
    "\n",
    "```python\n",
    "  File \"program.py\", line 1\n",
    "    y = 3 + (x = 5)\n",
    "               ^\n",
    "SyntaxError: invalid syntax\n",
    "\n",
    "```"
   ]
  },
  {
   "cell_type": "markdown",
   "metadata": {},
   "source": [
    "# Types of operands"
   ]
  },
  {
   "cell_type": "markdown",
   "metadata": {},
   "source": [
    "Operands represent values of some kind, like numbers or strings. Sometimes we might want to represent different things which have different behaviours (e.g. words behave differently from numbers). The way computers deal with this is to give every value a data type. The **type** tells the computer how to handle the value. There are several types we will deal with listed below, which we will explore in detail later in the course:\n",
    "\n",
    "<table border=\"1\">\n",
    "<thead valign=\"bottom\">\n",
    "<tr><th>Type</th> <th>Description</th> </tr>\n",
    "</thead>\n",
    "<tbody valign=\"top\">\n",
    "<tr><td><code data-lang=\"py3\">int</code></td> <td>For whole numbers eg: <code data-lang=\"py3\">-3</code>, <code data-lang=\"py3\">-5</code>, or  <code data-lang=\"py3\">10</code></td> \n",
    "</tr>\n",
    "\n",
    "<tr><td><code data-lang=\"py3\">float</code></td> <td>For real numbers eg: <code data-lang=\"py3\">-3.0</code>, <code data-lang=\"py3\">0.5</code>, or <code data-lang=\"py3\">3.14159</code></td>  </tr>\n",
    "\n",
    "<tr><td><code data-lang=\"py3\">bool</code></td> <td>The Boolean type. For storing <code data-lang=\"py3\">True</code> and <code data-lang=\"py3\">False</code> (only those two values; Booleans allow for no grey areas!).</td> </tr>\n",
    "\n",
    "<tr><td><code data-lang=\"py3\">str</code> (= \"string\")</td> <td>For chunks of text, e.g.: <code data-lang=\"py3\">\"Hello, I study Python\"</code></td> </tr>\n",
    "\n",
    "<tr><td><code data-lang=\"py3\">tuple</code></td> <td>For combinations of objects, e.g.: <code data-lang=\"py3\">(1, 2, 3)</code> or <code data-lang=\"py3\">(1.0, \"hello\", \"frank\")</code></td>  </tr>\n",
    "\n",
    "<tr><td><code data-lang=\"py3\">list</code></td> <td>A more powerful way of storing lists of objects, e.g. <code data-lang=\"py3\">[1, 3, 4]</code> or <code data-lang=\"py3\">[1.0, \"hello\", \"frank\"]</code></td> </tr>\n",
    "\n",
    "<tr><td><code data-lang=\"py3\">dict</code></td> <td>We will see this later ... maybe you can guess what it does, e.g. <code data-lang=\"py3\">{\"bob\": 34, \"frankenstein\": 203}</code></td>  </tr>\n",
    "\n",
    "</tbody>\n",
    "</table>\n"
   ]
  },
  {
   "cell_type": "markdown",
   "metadata": {},
   "source": [
    "# Representing numbers: integers"
   ]
  },
  {
   "cell_type": "markdown",
   "metadata": {},
   "source": [
    "For now let's focus on the types for representing numbers. The data type `int` is a type for all positive and negative whole numbers (i.e. all integers), such as `1` or `-1523`:\n",
    "\n",
    "As we have seen, they can be added, subtracted, multiplied and divided like so:"
   ]
  },
  {
   "cell_type": "code",
   "execution_count": 2,
   "metadata": {},
   "outputs": [
    {
     "name": "stdout",
     "output_type": "stream",
     "text": [
      "3\n",
      "300000000000000001\n",
      "62\n",
      "6.0\n"
     ]
    }
   ],
   "source": [
    "print(1523 - 1520)\n",
    "print(300000000000000000 + 1)\n",
    "print(31 * 2)\n",
    "print(12 / 2)"
   ]
  },
  {
   "cell_type": "markdown",
   "metadata": {},
   "source": [
    "# Representing numbers: floats"
   ]
  },
  {
   "cell_type": "markdown",
   "metadata": {},
   "source": [
    "The type `int` is distinct from the type `float`, which represents numbers with a decimal component such as `9.23`. These number are called **floating point numbers** and can approximate fractions such as $2/3$ or $3/4$, like this:"
   ]
  },
  {
   "cell_type": "code",
   "execution_count": 3,
   "metadata": {},
   "outputs": [
    {
     "name": "stdout",
     "output_type": "stream",
     "text": [
      "0.75\n",
      "3e+17\n"
     ]
    }
   ],
   "source": [
    "print(3/4)\n",
    "print(300000000000000000.0)"
   ]
  },
  {
   "cell_type": "markdown",
   "metadata": {},
   "source": [
    "If a number has a decimal place, Python will interpret it as a `float`.\n",
    "\n",
    "Another way of creating a `float` is scientific notation, e.g. `1e3`. The notation `1e3` is just a shorthand for $1 \\times 10^3$, which is equal to 1000."
   ]
  },
  {
   "cell_type": "code",
   "execution_count": 4,
   "metadata": {},
   "outputs": [
    {
     "name": "stdout",
     "output_type": "stream",
     "text": [
      "1000.0\n"
     ]
    }
   ],
   "source": [
    "print(1e3)"
   ]
  },
  {
   "cell_type": "markdown",
   "metadata": {},
   "source": [
    "Similarly,```1.23e-2```is simply $1.23 \\times 10^{-2} = 0.0123$:"
   ]
  },
  {
   "cell_type": "code",
   "execution_count": 5,
   "metadata": {},
   "outputs": [
    {
     "name": "stdout",
     "output_type": "stream",
     "text": [
      "0.0123\n"
     ]
    }
   ],
   "source": [
    "print(1.23e-2)"
   ]
  },
  {
   "cell_type": "markdown",
   "metadata": {},
   "source": [
    "[Try](https://www.youtube.com/watch?v=ZXsQAXx_ao0) changing the above code to print the number `1230.0` instead!"
   ]
  },
  {
   "cell_type": "markdown",
   "metadata": {},
   "source": [
    "# Expressions with integers"
   ]
  },
  {
   "cell_type": "markdown",
   "metadata": {},
   "source": [
    "When we do maths, we often deal with both integers and floats. It is therefore useful to know what type the result will be, so you know how future calculations will behave.\n",
    "\n",
    "Here is a simple example that assigns the integer value `2` to a variable with name `a`, and the integer value `7` to a variable with name `b`. We assign the sum of `a` and `b` to the variable `c`."
   ]
  },
  {
   "cell_type": "code",
   "execution_count": 6,
   "metadata": {},
   "outputs": [
    {
     "name": "stdout",
     "output_type": "stream",
     "text": [
      "9\n"
     ]
    }
   ],
   "source": [
    "a = 2\n",
    "b = 7\n",
    "c = a + b\n",
    "print(c)"
   ]
  },
  {
   "cell_type": "markdown",
   "metadata": {},
   "source": [
    "If you want to check if the variable `c` is indeed of type `int` (i.e. it is an integer), you can use the `type` function:"
   ]
  },
  {
   "cell_type": "code",
   "execution_count": 7,
   "metadata": {},
   "outputs": [
    {
     "name": "stdout",
     "output_type": "stream",
     "text": [
      "<class 'int'>\n"
     ]
    }
   ],
   "source": [
    "a = 2\n",
    "b = 7\n",
    "c = a + b\n",
    "print(type(c))"
   ]
  },
  {
   "cell_type": "markdown",
   "metadata": {},
   "source": [
    "On a previous slide, we saw an example of one integer divided by another, like this:"
   ]
  },
  {
   "cell_type": "code",
   "execution_count": 8,
   "metadata": {},
   "outputs": [
    {
     "name": "stdout",
     "output_type": "stream",
     "text": [
      "0.75\n"
     ]
    }
   ],
   "source": [
    "c = 3/4\n",
    "print(c)"
   ]
  },
  {
   "cell_type": "markdown",
   "metadata": {},
   "source": [
    "Even though both operands are of type `int`, the result is a `float`! You can check this yourself by modifying the example to print the type of `c` using the `type` function. Why do you think Python uses `float` for the result of division (we hinted at the answer in the previous worksheet)?"
   ]
  },
  {
   "cell_type": "markdown",
   "metadata": {},
   "source": [
    "# Expressions with floats"
   ]
  },
  {
   "cell_type": "markdown",
   "metadata": {},
   "source": [
    "What happens if we change the values to `2.0` and `7.0` for `a` and `b`, respectively?"
   ]
  },
  {
   "cell_type": "code",
   "execution_count": 9,
   "metadata": {},
   "outputs": [
    {
     "name": "stdout",
     "output_type": "stream",
     "text": [
      "9.0\n"
     ]
    }
   ],
   "source": [
    "a = 2.0\n",
    "b = 7.0\n",
    "c = a + b\n",
    "print(c)"
   ]
  },
  {
   "cell_type": "markdown",
   "metadata": {},
   "source": [
    "As you probably predicted, the result is now `9.0` (a `float`!). This is because all variables in the equation now store floating point values. What happens if we mix integer and floating point numbers? Try the following example:"
   ]
  },
  {
   "cell_type": "code",
   "execution_count": 10,
   "metadata": {},
   "outputs": [
    {
     "name": "stdout",
     "output_type": "stream",
     "text": [
      "9.0\n"
     ]
    }
   ],
   "source": [
    "a = 2\n",
    "b = 7.0\n",
    "c = a + b\n",
    "print(c)"
   ]
  },
  {
   "cell_type": "markdown",
   "metadata": {},
   "source": [
    "The result is of type `float` again. The  general rule is as follows: if you have an operator such as multiplication `*`, addition `+`, or subtraction `-`, and both operands are of type `int`, then the result is also of type `int`. However, if at least one of the operands is of type `float` or the operator is division, then the result is of type `float`.\n",
    "\n",
    "<table border=\"1\">\n",
    "<colgroup> <col width=\"27%\"> <col width=\"47%\"> <col width=\"27%\"> </colgroup>\n",
    "<thead valign=\"bottom\">\n",
    "<tr>\n",
    "<th>Expression</th> \n",
    "<th>Result</th>  </tr>\n",
    "</thead>\n",
    "<tbody valign=\"top\">\n",
    "\n",
    "<tr><td><code data-lang=\"py3\">int</code>(*,+,-)<code data-lang=\"py3\">int</code></td> <td><code data-lang=\"py3\">int</code></td> \n",
    "</tr>\n",
    "\n",
    "<tr><td><code data-lang=\"py3\">int</code>/<code data-lang=\"py3\">int</code></td> <td><code data-lang=\"py3\">float</code></td> \n",
    "</tr>\n",
    "\n",
    "<tr><td><code data-lang=\"py3\">float</code>(*,+,-,/)<code data-lang=\"py3\">float</code></td> <td><code data-lang=\"py3\">float</code></td> \n",
    "</tr>\n",
    "\n",
    "<tr><td><code data-lang=\"py3\">float</code>(*,+,-,/)<code data-lang=\"py3\">int</code></td> <td><code data-lang=\"py3\">float</code></td> \n",
    "</tr>\n",
    "\n",
    "<tr><td><code data-lang=\"py3\">int</code>(*,+,-,/)<code data-lang=\"py3\">float</code></td> <td><code data-lang=\"py3\">float</code></td> \n",
    "</tr>\n",
    "\n",
    "</tbody>\n",
    "</table>\n",
    "\n",
    "Modify the previous program so that it prints the type for the variables `a`, `b` and `c`. Try using different values for `a` and `b`, or a different mathematical operator in the expression for `c`.\n",
    "\n",
    "> ## Hint\n",
    "> There is an example of how to print a variable's type on the previous slide."
   ]
  },
  {
   "cell_type": "markdown",
   "metadata": {},
   "source": [
    "# Problem: numeric types"
   ]
  },
  {
   "cell_type": "markdown",
   "metadata": {},
   "source": [
    "Write a single expression to calculate $1.395 \\times 10^5 + 5.55 \\times 10^2$, and print the result as a `float`. \n",
    "\n",
    "The output of your program should look like this (but the number will be different!):\n",
    "\n",
    "```\n",
    "9.0\n",
    "```\n",
    "\n",
    "\n"
   ]
  },
  {
   "cell_type": "code",
   "execution_count": 11,
   "metadata": {},
   "outputs": [],
   "source": [
    "# Please write your answers here"
   ]
  },
  {
   "cell_type": "markdown",
   "metadata": {},
   "source": [
    "# Floating point numbers are approximations"
   ]
  },
  {
   "cell_type": "markdown",
   "metadata": {},
   "source": [
    "Floating point numbers allow us to approximate real numbers such as a fraction ($1/3$), the square root of 2 ($\\sqrt{2}$) or simply pi ($\\pi$). They are, however, approximations! This is not surprising as pi, for example, has infinitely many digits, whereas a floating point number has only finite space to store this number. Although some values are stored exactly, not all of them are. Here are two examples:"
   ]
  },
  {
   "cell_type": "code",
   "execution_count": 12,
   "metadata": {},
   "outputs": [
    {
     "name": "stdout",
     "output_type": "stream",
     "text": [
      "4.9000000000000004e+30\n"
     ]
    }
   ],
   "source": [
    "a = 4.9\n",
    "b = 1e30 * a\n",
    "print(b)"
   ]
  },
  {
   "cell_type": "code",
   "execution_count": 13,
   "metadata": {},
   "outputs": [
    {
     "name": "stdout",
     "output_type": "stream",
     "text": [
      "4.8999999999999995\n"
     ]
    }
   ],
   "source": [
    "print(4.9e30 / 1e30)"
   ]
  },
  {
   "cell_type": "markdown",
   "metadata": {},
   "source": [
    "The expected results would be `4.9e30` and `4.9`, but due to rounding errors, we have some trailing digits. A **rounding error** is the discrepancy between the approximated value and its exact value.\n",
    "\n",
    "Here is another example:"
   ]
  },
  {
   "cell_type": "code",
   "execution_count": 14,
   "metadata": {},
   "outputs": [
    {
     "name": "stdout",
     "output_type": "stream",
     "text": [
      "0.0\n"
     ]
    }
   ],
   "source": [
    "a = 12345678901234567890\n",
    "b = 0.1\n",
    "c = a + b - a\n",
    "print(c)"
   ]
  },
  {
   "cell_type": "markdown",
   "metadata": {},
   "source": [
    "`c` should be `0.1`, correct? What do you get, if you run the program? Can you explain this result?\n",
    "\n",
    "Floating point numbers allow us to represent a large set of numbers. Since there are infinitely many numbers (even in the range of -1 to 1) and the `float` data type has only a fixed amount of bits available, some numbers will inevitably have rounding errors."
   ]
  },
  {
   "cell_type": "markdown",
   "metadata": {},
   "source": [
    "# Type conversions"
   ]
  },
  {
   "cell_type": "markdown",
   "metadata": {},
   "source": [
    "You have learned that each value has a type: `32` is an integer (type `int`), `32.7` is a floating point number (type `float`) and `\"32.7\"` is a string (type `str`), made up of characters `3`, `2`, `.`, and `7`.\n",
    "\n",
    "Python provides an explicit means of converting one data type into another data type (if the conversion is possible). This conversion is also called **type casting**. The function `int` converts floating point numbers and strings (if all characters are digits) to integer values. Try running the following two examples:"
   ]
  },
  {
   "cell_type": "code",
   "execution_count": 15,
   "metadata": {},
   "outputs": [
    {
     "name": "stdout",
     "output_type": "stream",
     "text": [
      "32\n"
     ]
    }
   ],
   "source": [
    "print(int(32.7))"
   ]
  },
  {
   "cell_type": "code",
   "execution_count": 16,
   "metadata": {},
   "outputs": [
    {
     "name": "stdout",
     "output_type": "stream",
     "text": [
      "32\n"
     ]
    }
   ],
   "source": [
    "print(int(\"32\"))"
   ]
  },
  {
   "cell_type": "markdown",
   "metadata": {},
   "source": [
    "Note that the conversion from a floating point number to an integer always truncates the fractional part. What happens if the string contains a floating point number?\n",
    "\n",
    "```python\n",
    "print(int(\"32.7\"))\n",
    "```\n",
    "\n",
    "```python\n",
    "Traceback (most recent call last):\n",
    "  File \"program.py\", line 1, in <module>\n",
    "    print(int(\"32.7\"))\n",
    "ValueError: invalid literal for int() with base 10: '32.7'\n",
    "\n",
    "```\n",
    "\n",
    "The conversion `int(\"32.7\")` fails, because the decimal point is not a digit. Similarly, the conversion `int(\"Hello\")` fails. Try it:\n",
    "\n",
    "```python\n",
    "print(int(\"Hello\"))\n",
    "```"
   ]
  },
  {
   "cell_type": "code",
   "execution_count": 17,
   "metadata": {},
   "outputs": [],
   "source": [
    "# Try running the last example here"
   ]
  },
  {
   "cell_type": "markdown",
   "metadata": {},
   "source": [
    "# More type conversions"
   ]
  },
  {
   "cell_type": "markdown",
   "metadata": {},
   "source": [
    "The `float` function returns the corresponding `float` value for the input:"
   ]
  },
  {
   "cell_type": "code",
   "execution_count": 18,
   "metadata": {},
   "outputs": [
    {
     "name": "stdout",
     "output_type": "stream",
     "text": [
      "32.0\n"
     ]
    }
   ],
   "source": [
    "print(float(32))"
   ]
  },
  {
   "cell_type": "markdown",
   "metadata": {},
   "source": [
    "Unlike `int` casting, a cast to `float` can convert any string representation of a floating point number, even if the number contains a decimal point or is written in scientific notation."
   ]
  },
  {
   "cell_type": "code",
   "execution_count": 19,
   "metadata": {},
   "outputs": [
    {
     "name": "stdout",
     "output_type": "stream",
     "text": [
      "32.7\n"
     ]
    }
   ],
   "source": [
    "print(float(\"32.7\"))"
   ]
  },
  {
   "cell_type": "markdown",
   "metadata": {},
   "source": [
    "The function `str` converts values to the type `str` (a string). What do you think the following example will do? Try running it."
   ]
  },
  {
   "cell_type": "code",
   "execution_count": 20,
   "metadata": {},
   "outputs": [
    {
     "name": "stdout",
     "output_type": "stream",
     "text": [
      "3232.7\n"
     ]
    }
   ],
   "source": [
    "print(str(32) + str(32.7))"
   ]
  },
  {
   "cell_type": "markdown",
   "metadata": {},
   "source": [
    "Did you get what you expected? Can you explain why it happened?"
   ]
  },
  {
   "cell_type": "markdown",
   "metadata": {},
   "source": [
    "# <code data-lang=\"py3\">input</code> for numeric types"
   ]
  },
  {
   "cell_type": "markdown",
   "metadata": {},
   "source": [
    "Earlier we saw the `input` function for reading data from the keyboard. Here you can see the function in action:\n",
    "```python\n",
    "name = input(\"Hi! What is your name: \")\n",
    "print(\"Good to see you\", name, \"!\")\n",
    "```"
   ]
  },
  {
   "cell_type": "code",
   "execution_count": 21,
   "metadata": {},
   "outputs": [],
   "source": [
    "# Try running the last example here"
   ]
  },
  {
   "cell_type": "markdown",
   "metadata": {},
   "source": [
    "```input``` always returns a string, so if your program requires a string as input, there is nothing more to do. If the input is a number, on the other hand, Python will see this as a string consisting of digits. Try running the following example a few times to work out what is happening:"
   ]
  },
  {
   "cell_type": "markdown",
   "metadata": {},
   "source": [
    "```python\n",
    "num = input('Enter a number to double: ')\n",
    "print('2 x', num, '=', 2 * num)\n",
    "```"
   ]
  },
  {
   "cell_type": "code",
   "execution_count": 22,
   "metadata": {},
   "outputs": [],
   "source": [
    "# Try running the last example here"
   ]
  },
  {
   "cell_type": "markdown",
   "metadata": {},
   "source": [
    "We need a function that converts a string where each character is a digit, into a number. If your program expects integer values, you simply use the function `int`:"
   ]
  },
  {
   "cell_type": "markdown",
   "metadata": {},
   "source": [
    "```python\n",
    "num = int(input('Enter a number to double: '))\n",
    "print('2 x', num, '=', 2 * num)\n",
    "```"
   ]
  },
  {
   "cell_type": "code",
   "execution_count": 23,
   "metadata": {},
   "outputs": [],
   "source": [
    "# Try running the last example here"
   ]
  },
  {
   "cell_type": "markdown",
   "metadata": {},
   "source": [
    "If your program expects floating point numbers, you would use `float` instead.\n",
    "\n",
    "Note the extra space inside the quotes at the end of the `input` function. Try using the `input` function without an extra space and you will see why it is beneficial to add it."
   ]
  },
  {
   "cell_type": "markdown",
   "metadata": {},
   "source": [
    "# Problem: type conversion"
   ]
  },
  {
   "cell_type": "markdown",
   "metadata": {},
   "source": [
    "Write a Python program that asks the user for two numbers `val1` and `val2` using the `input` function, and prints their difference as a `float`.\n",
    "\n",
    "```python\n",
    "Enter val1: 6\n",
    "Enter val2: 3\n",
    "3.0\n",
    "```\n",
    "\n",
    "Note that the inputs can also be of type `float`, or a mix of types  `float` and `int`, e.g.:\n",
    "\n",
    "```python\n",
    "Enter val1: 4.0\n",
    "Enter val2: 3\n",
    "1.0\n",
    "```\n",
    "\n",
    "Note also that the difference may be negative if the first is smaller than the second:\n",
    "\n",
    "```python\n",
    "Enter val1: 2.5\n",
    "Enter val2: 4.0\n",
    "-1.5\n",
    "```\n",
    "\n",
    "> ## Remember\n",
    "> The `input` function returns values of type `str` — you will need to convert the strings to a numeric type."
   ]
  },
  {
   "cell_type": "code",
   "execution_count": 24,
   "metadata": {},
   "outputs": [],
   "source": [
    "# Please write your answers here"
   ]
  },
  {
   "cell_type": "markdown",
   "metadata": {},
   "source": [
    "# Problem: type conversion again"
   ]
  },
  {
   "cell_type": "markdown",
   "metadata": {},
   "source": [
    "Write a Python program that asks the user for one integer `time` (a time in milliseconds), converts it to seconds, and prints the result with `s` as the units (for \"seconds\").\n",
    "\n",
    "```python\n",
    "Enter time in milliseconds: 3000\n",
    "3.0s\n",
    "\n",
    "```\n",
    "\n",
    "> ## Hint\n",
    "> You should find a way to join the final number with the `'s'` string before calling the `print` function, so there is no space between them."
   ]
  },
  {
   "cell_type": "code",
   "execution_count": 25,
   "metadata": {},
   "outputs": [],
   "source": [
    "# Please write your answers here"
   ]
  },
  {
   "cell_type": "markdown",
   "metadata": {},
   "source": [
    "# Integer division"
   ]
  },
  {
   "cell_type": "markdown",
   "metadata": {},
   "source": [
    "You saw previously that the division operator `/` returns a `float` when applied to two integers."
   ]
  },
  {
   "cell_type": "code",
   "execution_count": 26,
   "metadata": {},
   "outputs": [
    {
     "name": "stdout",
     "output_type": "stream",
     "text": [
      "0.75\n"
     ]
    }
   ],
   "source": [
    "print(3 / 4)"
   ]
  },
  {
   "cell_type": "markdown",
   "metadata": {},
   "source": [
    "However, there are instances where you want to rely on the result of a division being an integer, irrespective of the numbers involved. For example, if you want to divide thirteen people into three groups, it doesn't make much sense to make three groups of $3.25$ people. In computing applications, it is fairly common to need a division operator that is guaranteed to return an integer, that is an **integer division** operator. In Python that operator is a double slash `//`, as seen in this example:"
   ]
  },
  {
   "cell_type": "code",
   "execution_count": 27,
   "metadata": {},
   "outputs": [
    {
     "name": "stdout",
     "output_type": "stream",
     "text": [
      "3\n"
     ]
    }
   ],
   "source": [
    "print(13 // 4)"
   ]
  },
  {
   "cell_type": "markdown",
   "metadata": {},
   "source": [
    "Note that in integer division, the result is always rounded down to the nearest integer, e.g.:"
   ]
  },
  {
   "cell_type": "code",
   "execution_count": 28,
   "metadata": {},
   "outputs": [
    {
     "name": "stdout",
     "output_type": "stream",
     "text": [
      "1\n"
     ]
    }
   ],
   "source": [
    "print(7 // 4)"
   ]
  },
  {
   "cell_type": "markdown",
   "metadata": {},
   "source": [
    "# Modulo"
   ]
  },
  {
   "cell_type": "markdown",
   "metadata": {},
   "source": [
    "However, if we divide thirteen people into three groups of four, there will be one person left over. The **modulus operator** `%` computes the **remainder** of an integer division. We say that the remainder of `13 // 4` is `1` because $3 \\times 4 + 1 = 13$. Here is an example of using the modulus operator to calculate remainders:"
   ]
  },
  {
   "cell_type": "code",
   "execution_count": 29,
   "metadata": {},
   "outputs": [
    {
     "name": "stdout",
     "output_type": "stream",
     "text": [
      "1\n"
     ]
    }
   ],
   "source": [
    "# Using the modulus operator\n",
    "print(13 % 4)"
   ]
  },
  {
   "cell_type": "code",
   "execution_count": 30,
   "metadata": {},
   "outputs": [
    {
     "name": "stdout",
     "output_type": "stream",
     "text": [
      "12\n"
     ]
    }
   ],
   "source": [
    "# Using the multiplication operator\n",
    "print(3 * 4)"
   ]
  },
  {
   "cell_type": "code",
   "execution_count": 31,
   "metadata": {},
   "outputs": [
    {
     "name": "stdout",
     "output_type": "stream",
     "text": [
      "13\n"
     ]
    }
   ],
   "source": [
    "# Using the integer division, multiplication and modulus operators\n",
    "print((13 // 4) * 4 + 13 % 4)"
   ]
  },
  {
   "cell_type": "markdown",
   "metadata": {},
   "source": [
    "Python also lets you use the integer division and modulus operators on floats:"
   ]
  },
  {
   "cell_type": "code",
   "execution_count": 32,
   "metadata": {},
   "outputs": [
    {
     "name": "stdout",
     "output_type": "stream",
     "text": [
      "3.1\n"
     ]
    }
   ],
   "source": [
    "print((3.1 // 1.5) * 1.5 + 3.1 % 1.5)"
   ]
  },
  {
   "cell_type": "markdown",
   "metadata": {},
   "source": [
    "**Note:** You may have accuracy issues when working with floats"
   ]
  },
  {
   "cell_type": "markdown",
   "metadata": {},
   "source": [
    "# Exponentiation"
   ]
  },
  {
   "cell_type": "markdown",
   "metadata": {},
   "source": [
    "Finally, to raise things to powers in Python (e.g. $4^7$), we use the **exponentiation operator** `**`. Try to guess what the following will output, then run it to see if you were right:\n",
    "\n",
    "```python\n",
    "print(2**2)\n",
    "print(3**2)\n",
    "print(2**(13 % 4))\n",
    "```\n"
   ]
  },
  {
   "cell_type": "code",
   "execution_count": 33,
   "metadata": {},
   "outputs": [],
   "source": [
    "# Try running the last example here"
   ]
  },
  {
   "cell_type": "markdown",
   "metadata": {},
   "source": [
    "# A Tricksy test"
   ]
  },
  {
   "cell_type": "markdown",
   "metadata": {},
   "source": [
    "It's been a long time since Frodo went out on his Big Adventure. He has lost track of time, and wonders whether it is his birthday yet. Luckily, he remembers exactly how many days have passed since he was born. To help Mr Frodo, write a Python program that asks the user for the number of days since they were born, and returns their age in years, and the number of days until their next birthday.\n",
    "\n",
    "**Reminder:** make sure you spell **everything** properly in the output!\n",
    "\n",
    "```python\n",
    "How many days have you lived? 3000\n",
    "You are 8 years young!\n",
    "You have 285 days until you next get to boogie down.\n",
    "\n",
    "```\n",
    "\n",
    "> ## Leap Years\n",
    "> As cool as leap years are, for this exercise, you can assume that all years are made up of 365 days. Also assume that the input will always be a nice, discrete integer.\n",
    " > \n",
    " > Did you know that the oldest cat in the world lived to 38 years and 3 days old. She was called [Creme Puff](https://en.wikipedia.org/wiki/Creme\\_Puff\\_(cat)) and had a diet of bacon and eggs, and coffee with cream, and was completely unperturbed by leap years. Oh my god, how Adorable!"
   ]
  },
  {
   "cell_type": "code",
   "execution_count": 34,
   "metadata": {},
   "outputs": [],
   "source": [
    "# Please write your answers here"
   ]
  },
  {
   "cell_type": "markdown",
   "metadata": {},
   "source": [
    "# Financials"
   ]
  },
  {
   "cell_type": "markdown",
   "metadata": {},
   "source": [
    "Mr Frodo received lots of money for his Birthday. Mr Frodo decided to put it in the bank. Mr Frodo is clever. He knows that his interest will compound **monthly** at a rate of 4.5% p.a. Write a program that asks Mr Frodo how much he is investing, and for how long (in days), and prints the amount of money he will have after this amount of time.\n",
    "\n",
    "You should assume non-empty, integer inputs for both answers, and assume there are exactly 31 days in every month according to this bank.\n",
    "\n",
    "Your program should behave as follows:\n",
    "\n",
    "```python\n",
    "How much money would you like to invest, Mr Frodo? 10\n",
    "How many days would you like to invest this for? 10\n",
    "After that time you will have: $10.0\n",
    "```\n",
    "\n",
    "```python\n",
    "How much money would you like to invest, Mr Frodo? 10\n",
    "How many days would you like to invest this for? 372\n",
    "After that time you will have: $10.459398250405895\n",
    "```\n",
    "\n",
    "> ## Compound interest\n",
    "> The formula for compound interest is:\n",
    "> $$P_{f} = P_{i} \\times(1 + \\frac{r}{12})^{n}$$\n",
    "> where $P_{f}$ is the final amount, $P_{i}$ is the initial amount, $r$ is the interest rate per annum, and $n$ is the number of accumulation periods that have passed (**whole** months for this problem ... I repeat **whole** months; musing: [*can a month be said to be or not to be an entire month, when part of the month is not a month, due to some float anomaly?*](https://en.wikipedia.org/wiki/Eric\\_the\\_Half-a-Bee)).\n",
    ">\n",
    " > For example, if you invest $\\$100$ for 1 year, one month, and 18 days (= 13 whole months) at a rate of 4\\% per annum, the final amount would be:\n",
    " > $$100 \\times (1 + 0.04/12)^{13} \\approx 104.42$$"
   ]
  },
  {
   "cell_type": "code",
   "execution_count": 35,
   "metadata": {},
   "outputs": [],
   "source": [
    "# Please write your answers here"
   ]
  },
  {
   "cell_type": "markdown",
   "metadata": {},
   "source": [
    "# Congratulations!"
   ]
  },
  {
   "cell_type": "markdown",
   "metadata": {},
   "source": [
    "Congratulations, you have completed the worksheet on data types! You now know the basic data types used in Python.\n",
    "\n",
    "Proceed to the next worksheet to use types in a range of different contexts.\n"
   ]
  }
 ],
 "metadata": {
  "kernelspec": {
   "display_name": "Python 3 (ipykernel)",
   "language": "python",
   "name": "python3"
  },
  "language_info": {
   "codemirror_mode": {
    "name": "ipython",
    "version": 3
   },
   "file_extension": ".py",
   "mimetype": "text/x-python",
   "name": "python",
   "nbconvert_exporter": "python",
   "pygments_lexer": "ipython3",
   "version": "3.8.10"
  },
  "latex_envs": {
   "LaTeX_envs_menu_present": true,
   "autoclose": false,
   "autocomplete": true,
   "bibliofile": "biblio.bib",
   "cite_by": "apalike",
   "current_citInitial": 1,
   "eqLabelWithNumbers": true,
   "eqNumInitial": 1,
   "hotkeys": {
    "equation": "Ctrl-E",
    "itemize": "Ctrl-I"
   },
   "labels_anchors": false,
   "latex_user_defs": false,
   "report_style_numbering": false,
   "user_envs_cfg": false
  },
  "toc": {
   "base_numbering": 1,
   "nav_menu": {},
   "number_sections": true,
   "sideBar": true,
   "skip_h1_title": false,
   "title_cell": "Table of Contents",
   "title_sidebar": "Contents",
   "toc_cell": false,
   "toc_position": {},
   "toc_section_display": true,
   "toc_window_display": false
  },
  "varInspector": {
   "cols": {
    "lenName": 16,
    "lenType": 16,
    "lenVar": 40
   },
   "kernels_config": {
    "python": {
     "delete_cmd_postfix": "",
     "delete_cmd_prefix": "del ",
     "library": "var_list.py",
     "varRefreshCmd": "print(var_dic_list())"
    },
    "r": {
     "delete_cmd_postfix": ") ",
     "delete_cmd_prefix": "rm(",
     "library": "var_list.r",
     "varRefreshCmd": "cat(var_dic_list()) "
    }
   },
   "types_to_exclude": [
    "module",
    "function",
    "builtin_function_or_method",
    "instance",
    "_Feature"
   ],
   "window_display": false
  }
 },
 "nbformat": 4,
 "nbformat_minor": 1
}
