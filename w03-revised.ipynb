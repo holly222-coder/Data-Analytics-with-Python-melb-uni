{
 "cells": [
  {
   "cell_type": "markdown",
   "metadata": {},
   "source": [
    "# Conditionals"
   ]
  },
  {
   "cell_type": "markdown",
   "metadata": {},
   "source": [
    "As we saw back in Worksheet 0 in the context of \"switches\" in our code, a program can be structured to execute differently depending on the user's input or other external variables, just as your behaviour will vary depending on things like the day of the week (*If it's a Sunday, sleep in ... if it's a Monday, jump excitedly out of bed at 6:30 and write Python code for 45 minutes ...*).\n",
    "\n",
    "An example of this might the following, which takes a user input and determines whether it is a valid integer in the range 1-5, and if not, provides appropriate feedback. You aren't expected to understand the code at this stage, but as a warm-up, try running the code with different inputs to try to understand what we mean by the code behaving differently depending on the input:\n",
    "\n",
    "```python\n",
    "val = input(\"Provide a rating on the scale 1-5: \")\n",
    "if val.isdigit() and 1 <= int(val) <= 5:\n",
    "    print(\"You rating was {}\".format(val))\n",
    "elif val.isdigit():\n",
    "    print(\"ERROR: the rating must be in the range 1-5\")\n",
    "else:\n",
    "    print(\"ERROR: the rating must be an integer\")\n",
    "```"
   ]
  },
  {
   "cell_type": "code",
   "execution_count": 1,
   "metadata": {},
   "outputs": [],
   "source": [
    "# Try running the last example here"
   ]
  },
  {
   "cell_type": "markdown",
   "metadata": {},
   "source": [
    "In order to be able to change the behaviour of our code on different conditions, we need three things: \n",
    "1. a way of expressing truth, to store whether a given condition holds or not; \n",
    "2. a way of testing for a given condition, often based on comparison between values; and \n",
    "3. a way of only running code when a given condition holds.\n",
    "\n",
    "We step through each of these in this worksheet."
   ]
  },
  {
   "cell_type": "markdown",
   "metadata": {},
   "source": [
    "# Type Conversion and Booleans"
   ]
  },
  {
   "cell_type": "markdown",
   "metadata": {},
   "source": [
    "First, we need to have a way of expressing the outcome of a condition or test, in the form of its possible outcomes. Assuming that every test holds true or does not (i.e. there are no \"maybes\" or \"indeterminates\" or instances of \"it depends\"), we can express the outcome as a **Boolean** (in Python, the type `bool`), which takes one of two truth values: either `True` (i.e. the condition holds) or `False` (i.e. the condition doesn't hold). Note that this is different, e.g., to the string `\"True\"`, and also that the casing matters (e.g. `true` is simply a variable name in Python, with no special status).\n",
    "\n",
    "As with the other types we have seen to date, one immediate thing to note is that we can convert to a `bool`, using a function of the same name, e.g.:"
   ]
  },
  {
   "cell_type": "code",
   "execution_count": 2,
   "metadata": {},
   "outputs": [
    {
     "name": "stdout",
     "output_type": "stream",
     "text": [
      "True\n",
      "True\n",
      "True\n"
     ]
    }
   ],
   "source": [
    "print(bool(1))\n",
    "print(bool(2.0))\n",
    "print(bool(\"False\"))"
   ]
  },
  {
   "cell_type": "markdown",
   "metadata": {},
   "source": [
    "Based on these examples, you might be forgiven for thinking that all objects convert to `True`, but it's not the case. In fact, for every type, the \"default\" value converts to `False`, and everything else converts to `True`. For numeric types, this is the zero value, for strings it is the empty string, and for Booleans, it is `False`:"
   ]
  },
  {
   "cell_type": "code",
   "execution_count": 3,
   "metadata": {},
   "outputs": [
    {
     "name": "stdout",
     "output_type": "stream",
     "text": [
      "False\n",
      "False\n",
      "False\n",
      "False\n"
     ]
    }
   ],
   "source": [
    "print(bool(0))\n",
    "print(bool(0.0))\n",
    "print(bool(\"\"))\n",
    "print(bool(False))"
   ]
  },
  {
   "cell_type": "markdown",
   "metadata": {},
   "source": [
    "# Condition Testing"
   ]
  },
  {
   "cell_type": "markdown",
   "metadata": {},
   "source": [
    "All well and good, but the real power of Booleans comes about when they form part of a test for some condition, whether it is over numeric values, strings, or through the combination of Booleans. Let's walk through each of these possibilities in turn.\n"
   ]
  },
  {
   "cell_type": "markdown",
   "metadata": {},
   "source": [
    "# Relational Operators"
   ]
  },
  {
   "cell_type": "markdown",
   "metadata": {},
   "source": [
    "It's perhaps easiest to start out with numeric types (`int` and `float`), and binary relational operators between them. Python supports six relational operators, summarized in the following table:\n",
    "\n",
    "<table border=\"1\">\n",
    "<colgroup> <col width=\"27%\"> <col width=\"47%\"> <col width=\"27%\"> </colgroup>\n",
    "<thead valign=\"bottom\">\n",
    "<tr><th>Python</th> <th>Meaning</th> <th>Math Notation</th> </tr>\n",
    "</thead>\n",
    "<tbody valign=\"top\">\n",
    "<tr><td>&lt;</td> <td>less than</td> <td>&lt;</td> </tr>\n",
    "<tr><td>&lt;=</td> <td>less than or equal</td> <td>≤</td> </tr>\n",
    "<tr><td>==</td> <td>equal</td> <td>=</td> </tr>\n",
    "<tr><td>!=</td> <td>not equal</td> <td>≠</td> </tr>\n",
    "<tr><td>&gt;</td> <td>greater than</td> <td>&gt;</td> </tr>\n",
    "<tr><td>&gt;=</td> <td>greater than or equal</td> <td>≥</td> </tr>\n",
    "</tbody>\n",
    "</table>\n",
    "\n",
    "\n",
    "\n",
    "When applied, each of these relational operators evaluates to a Boolean, e.g."
   ]
  },
  {
   "cell_type": "code",
   "execution_count": 4,
   "metadata": {},
   "outputs": [
    {
     "name": "stdout",
     "output_type": "stream",
     "text": [
      "False\n",
      "True\n",
      "True\n"
     ]
    }
   ],
   "source": [
    "print(1 > 2)\n",
    "print(1 + 1 >= 1)\n",
    "print(2.0 == 4/2.0)"
   ]
  },
  {
   "cell_type": "markdown",
   "metadata": {},
   "source": [
    "Note that when we compare objects of type `int` and `float`, the relational operators behave as we might hope them to, including for equality:"
   ]
  },
  {
   "cell_type": "code",
   "execution_count": 5,
   "metadata": {},
   "outputs": [
    {
     "name": "stdout",
     "output_type": "stream",
     "text": [
      "False\n",
      "True\n",
      "True\n"
     ]
    }
   ],
   "source": [
    "print(1 > 2.0)\n",
    "print(1 + 1 == 2.0)\n",
    "print(3.141592653 != 22/7)"
   ]
  },
  {
   "cell_type": "markdown",
   "metadata": {},
   "source": [
    "# A Common Mistake"
   ]
  },
  {
   "cell_type": "markdown",
   "metadata": {},
   "source": [
    "The equality relational operator `==` is particularly worthy of note, as it is the source of many a bug when you first start coding, due to confusion with the assignment operator `=`. For example, the following code may appear to test whether $1 + 1 = 1$:"
   ]
  },
  {
   "cell_type": "code",
   "execution_count": 6,
   "metadata": {},
   "outputs": [
    {
     "name": "stdout",
     "output_type": "stream",
     "text": [
      "2\n",
      "1\n"
     ]
    }
   ],
   "source": [
    "a = 1 + 1\n",
    "b = 1\n",
    "print(a)\n",
    "a = b\n",
    "print(a)"
   ]
  },
  {
   "cell_type": "markdown",
   "metadata": {},
   "source": [
    "In practice, however, the final line `a = b` is an assignment, as a result of which `a` is simply set to the value of 1.\n",
    "\n",
    "If you don't get tripped up by this difference at least once, consider yourself superhuman!"
   ]
  },
  {
   "cell_type": "markdown",
   "metadata": {},
   "source": [
    "# String Comparisons"
   ]
  },
  {
   "cell_type": "markdown",
   "metadata": {},
   "source": [
    "All six relational operators can also be applied to strings. Try running the following:\n",
    "\n",
    "```python\n",
    "print('he' < 'hi')\n",
    "print('Hell' >= 'Hello')\n",
    "```"
   ]
  },
  {
   "cell_type": "code",
   "execution_count": 7,
   "metadata": {},
   "outputs": [],
   "source": [
    "# Try running the last example here"
   ]
  },
  {
   "cell_type": "markdown",
   "metadata": {},
   "source": [
    "In general, strings are compared and sorted by their alphabetical order.\n",
    "\n",
    "Be aware that all lowercase letters are considered greater than uppercase letters, e.g.:"
   ]
  },
  {
   "cell_type": "code",
   "execution_count": 8,
   "metadata": {},
   "outputs": [
    {
     "name": "stdout",
     "output_type": "stream",
     "text": [
      "True\n",
      "True\n"
     ]
    }
   ],
   "source": [
    "print('h' > 'H')\n",
    "print('Z' < 'a')"
   ]
  },
  {
   "cell_type": "markdown",
   "metadata": {},
   "source": [
    "> ## Hint\n",
    "> Characters have numbers associated with them which can be accessed through the `ord()` method. This can be used to tell if one character is greater than another. e.g.:\n",
    " > ```python\n",
    " > print(ord('A'))\n",
    " > print('a' > 'A')\n",
    " > ```"
   ]
  },
  {
   "cell_type": "code",
   "execution_count": 9,
   "metadata": {},
   "outputs": [],
   "source": [
    "# Try running the last example here"
   ]
  },
  {
   "cell_type": "markdown",
   "metadata": {},
   "source": [
    "# String Comparisons: Substrings"
   ]
  },
  {
   "cell_type": "markdown",
   "metadata": {},
   "source": [
    "There is one more important test we can perform over strings: whether or not a string is a substring of another string (i.e. whether or not it is contained within the other string). The relational operator associated with this test is called `in`. Here is an example:"
   ]
  },
  {
   "cell_type": "code",
   "execution_count": 10,
   "metadata": {},
   "outputs": [
    {
     "name": "stdout",
     "output_type": "stream",
     "text": [
      "True\n"
     ]
    }
   ],
   "source": [
    "print('Hell' in 'Hello')"
   ]
  },
  {
   "cell_type": "markdown",
   "metadata": {},
   "source": [
    "Note that the `in` operator is case sensitive:"
   ]
  },
  {
   "cell_type": "code",
   "execution_count": 11,
   "metadata": {},
   "outputs": [
    {
     "name": "stdout",
     "output_type": "stream",
     "text": [
      "False\n"
     ]
    }
   ],
   "source": [
    "print('hell' in 'Hello')"
   ]
  },
  {
   "cell_type": "markdown",
   "metadata": {},
   "source": [
    "Also note that the ordering of the  strings matters:"
   ]
  },
  {
   "cell_type": "code",
   "execution_count": 12,
   "metadata": {},
   "outputs": [
    {
     "name": "stdout",
     "output_type": "stream",
     "text": [
      "True\n",
      "False\n"
     ]
    }
   ],
   "source": [
    "print('moo' in 'wooloomooloo')\n",
    "print('wooloomooloo' in 'moo')"
   ]
  },
  {
   "cell_type": "markdown",
   "metadata": {},
   "source": [
    "> ## Getting technical\n",
    "> In Maths, a (binary) operator which produces the same result irrespective of the order of the things it is applied to, is **commutative**. For example, addition is commutative (e.g. $1 + 2 = 2 + 1$, whereas subtraction is not (e.g. $2 - 1 \\ne 1 -2 $). The same terminology is used in Computing, meaning that we would describe `in` as not being commutative."
   ]
  },
  {
   "cell_type": "markdown",
   "metadata": {},
   "source": [
    "# Logical Operators"
   ]
  },
  {
   "cell_type": "markdown",
   "metadata": {},
   "source": [
    "Sometimes, we need to be able to perform complex tests, combining the results of individual sub-tests, such as *If it's a Monday and not a public holiday and not my birthday, then jump out of bed at 6:30 ...*. To combine tests which evaluate to Boolean variables, we use **logical operators**, which take a pre-determined number of Boolean inputs and return a single Boolean value. Python has two binary logical operators (that apply to two Boolean variables) — `and` and `or` — and one unary logical operator (that applies to a single Boolean variable) — `not`. The `not` operator negates the logical expression it is applied to: if the expression `exp` is `False`, then `not exp` is `True`, and vice versa.\n",
    "\n",
    "The rules for `and` and `or` are summarized as follows:\n",
    "\n",
    "<figure class=\"align-center\">\n",
    "<table border=\"1\">\n",
    "<colgroup>\n",
    "<col width=\"25%\">\n",
    "<col width=\"25%\">\n",
    "<col width=\"25%\">\n",
    "<col width=\"25%\">\n",
    "</colgroup>\n",
    "<thead valign=\"bottom\"> \n",
    "<tr><th colspan=\"2\">Operands</th><th colspan=\"2\">Logical Operator</th></tr>\n",
    "<tr><th><code data-lang=\"py3\">A</code></th><th><code data-lang=\"py3\">B</code></th><th><code data-lang=\"py3\">A and B</code></th><th><code data-lang=\"py3\">A or B</code></th></tr>\n",
    "</thead>\n",
    "<tbody valign=\"top\">\n",
    "<tr><td><code data-lang=\"py3\">False</code></td><td><code data-lang=\"py3\">False</code></td><td><code data-lang=\"py3\">False</code></td><td><code data-lang=\"py3\">False</code></td></tr>\n",
    "<tr><td><code data-lang=\"py3\">True</code></td><td><code data-lang=\"py3\">False</code></td><td><code data-lang=\"py3\">False</code></td><td><code data-lang=\"py3\">True</code></td></tr>\n",
    "<tr><td><code data-lang=\"py3\">False</code></td><td><code data-lang=\"py3\">True</code></td><td><code data-lang=\"py3\">False</code></td><td><code data-lang=\"py3\">True</code></td></tr>\n",
    "<tr><td><code data-lang=\"py3\">True</code></td><td><code data-lang=\"py3\">True</code></td><td><code data-lang=\"py3\">True</code></td><td><code data-lang=\"py3\">True</code></td></tr>\n",
    "</tbody>\n",
    "</table>\n",
    "</figure>\n",
    "\n",
    "That is, for `and` to evaluate to `True`, both logical expressions it applies to must be `True`; for `or`, on the other hand, if either (or both) of the logical expressions it applies to is `True`, the combination is also `True`.\n",
    "\n",
    "Try to work out the results of the following Python expressions, then run the code to check your answers:\n",
    "\n",
    "```eg:eg-g2-logical-operators-0;\n",
    "print(True and True)\n",
    "print(True and 1 != 1)\n",
    "print(1 > 2 or True)\n",
    "print(not True)\n",
    "\n",
    "```\n"
   ]
  },
  {
   "cell_type": "code",
   "execution_count": 13,
   "metadata": {},
   "outputs": [],
   "source": [
    "# Try running the last example here"
   ]
  },
  {
   "cell_type": "markdown",
   "metadata": {},
   "source": [
    "# Combining Logical Operators and Precedence (Part 1)"
   ]
  },
  {
   "cell_type": "markdown",
   "metadata": {},
   "source": [
    "Logical operators apply to logical expressions, and evaluate to a Boolean value, but the logical expressions themselves can be complex expressions, of course, e.g.:"
   ]
  },
  {
   "cell_type": "code",
   "execution_count": 14,
   "metadata": {},
   "outputs": [
    {
     "name": "stdout",
     "output_type": "stream",
     "text": [
      "True\n"
     ]
    }
   ],
   "source": [
    "print(not 1 > 2 and 1 > 0 or \"din\" in \"coding\")"
   ]
  },
  {
   "cell_type": "markdown",
   "metadata": {},
   "source": [
    "You might be surprised by the output of this code, but just as Python defined precedence over arithmetic operators, it also defines precedence over logical operators, as follows: relational operators (including `in`) > `not` > `and` > `or`. That is, relational operators are evaluated first, followed by `not`, etc. Thus, in our example above, Python first evaluates `1 > 2`, `1 > 0`, and `\"din\" in \"coding\"`. That is, the entire expression evaluates to `not False and True or True`. Next, Python applies `not` to the Boolean value immediately proceeding it, generating `True and True or True`, before evaluating `and` and generating `True or True`. Finally, it evaluates `or`, generating the final value of `True`."
   ]
  },
  {
   "cell_type": "markdown",
   "metadata": {},
   "source": [
    "# Combining Logical Operators and Precedence (Part 2)"
   ]
  },
  {
   "cell_type": "markdown",
   "metadata": {},
   "source": [
    "Yes, this was quite a mouthful (or should that be a pageful?), and it's very easy to get confused about operator precedence in logical expressions, so the best thing is to use parentheses to make the precedence clear, e.g. along the lines of:"
   ]
  },
  {
   "cell_type": "code",
   "execution_count": 15,
   "metadata": {},
   "outputs": [
    {
     "name": "stdout",
     "output_type": "stream",
     "text": [
      "True\n"
     ]
    }
   ],
   "source": [
    "print((not(1 > 2) and 1 > 0) or (\"din\" in \"coding\"))"
   ]
  },
  {
   "cell_type": "markdown",
   "metadata": {},
   "source": [
    "Yes, it's not the most readable piece of code, but at least it is more transparent than the original.\n",
    "\n",
    "As a slight but important aside, returning to our example of a condition we might like to actually test for, you might like to try to predict what the following complex logical expression evaluates to, before running the code:\n",
    "\n",
    "```eg:monday-example;\n",
    "print(\"Monday\" and not \"holiday\" and not \"birthday\")\n",
    "```"
   ]
  },
  {
   "cell_type": "code",
   "execution_count": 16,
   "metadata": {},
   "outputs": [],
   "source": [
    "# Try running the last example here"
   ]
  },
  {
   "cell_type": "markdown",
   "metadata": {},
   "source": [
    "How did you go? Surprised? Bear in mind that whenever a logical operator is applied to an object which is not of type `bool`, Python first interprets the object as a `bool`. As every non-empty string is equivalent to `True`, the expression is equivalent to `True and not True and not True`, which explains the output you observed."
   ]
  },
  {
   "cell_type": "markdown",
   "metadata": {},
   "source": [
    "# Complex Ranges"
   ]
  },
  {
   "cell_type": "markdown",
   "metadata": {},
   "source": [
    "One thing you will occasionally want to do is check whether a given variable falls within a range. Based on what we know about relational and logical operators, we can do this as follows:"
   ]
  },
  {
   "cell_type": "code",
   "execution_count": 17,
   "metadata": {},
   "outputs": [
    {
     "name": "stdout",
     "output_type": "stream",
     "text": [
      "True\n"
     ]
    }
   ],
   "source": [
    "n = 4\n",
    "print((0 < n) and (n < 6))"
   ]
  },
  {
   "cell_type": "markdown",
   "metadata": {},
   "source": [
    "As a shorthand, Python offers a second way of expressing the same thing (very close to the mathematical notation):"
   ]
  },
  {
   "cell_type": "code",
   "execution_count": 18,
   "metadata": {},
   "outputs": [
    {
     "name": "stdout",
     "output_type": "stream",
     "text": [
      "True\n"
     ]
    }
   ],
   "source": [
    "n = 4\n",
    "print(0 < n < 6)"
   ]
  },
  {
   "cell_type": "markdown",
   "metadata": {},
   "source": [
    "In fact, it is possible to multiply \"stack\" relational operators, e.g.:"
   ]
  },
  {
   "cell_type": "code",
   "execution_count": 19,
   "metadata": {},
   "outputs": [
    {
     "name": "stdout",
     "output_type": "stream",
     "text": [
      "True\n"
     ]
    }
   ],
   "source": [
    "print('A' < 'Z' < 'a' < 'z')"
   ]
  },
  {
   "cell_type": "markdown",
   "metadata": {},
   "source": [
    "# Conditional Blocks"
   ]
  },
  {
   "cell_type": "markdown",
   "metadata": {},
   "source": [
    "The final piece in the puzzle which allows us to actually *do* things on the basis of a test, is the `if` statement:\n",
    "\n",
    "```python\n",
    "n = int(input(\"Enter an integer: \"))\n",
    "if 0 < n < 6:\n",
    "    print('You entered a positive integer less than six.')\n",
    "print('Try again with another integer!')\n",
    "```"
   ]
  },
  {
   "cell_type": "code",
   "execution_count": 20,
   "metadata": {},
   "outputs": [],
   "source": [
    "# Try running the last example here"
   ]
  },
  {
   "cell_type": "markdown",
   "metadata": {},
   "source": [
    "Very importantly, the first `print` statement here is **indented** (i.e. there is extra white space at the start of the line to offset it from the `if` statement it is attached to). This is how Python knows what code to run when the `if` condition evaluates to `True`. If there were more lines of code associated with the `if` statement, it would similarly be indented, by the exact same amount as the `print` statement. This combined set of statements is termed a **block**, and the general form of an `if` statement is as follows:\n",
    "\n",
    "```python\n",
    "if condition:\n",
    "    block of statements\n",
    "```\n",
    "\n",
    "The indented block of statements is only executed if the condition evaluates to `True`. Note that this notion of \"block\" is very important in Python, and will come up again in the context of both functions and iteration."
   ]
  },
  {
   "cell_type": "markdown",
   "metadata": {},
   "source": [
    "# Choosing among Two Alternatives"
   ]
  },
  {
   "cell_type": "markdown",
   "metadata": {},
   "source": [
    "As we saw in the context of turtle programs, if you need to decide between two alternatives, Python provides the `if-else` statement:\n",
    "\n",
    "```python\n",
    "if condition:\n",
    "    first block of statements\n",
    "else:\n",
    "    alternative block of statements\n",
    "```\n",
    "\n",
    "If the condition is `True`, the first indented block of statements will be executed, otherwise the alternative block will be executed. In summary: an `if-else` statement can model a two-way decision.\n",
    "\n",
    "Try running this example:\n",
    "\n",
    "```python\n",
    "n = int(input(\"Enter an integer: \"))\n",
    "if 0 < n < 6:\n",
    "    print('You entered a positive integer less than six.')\n",
    "else:\n",
    "    print('The integer was not between zero and six.')\n",
    "```\n"
   ]
  },
  {
   "cell_type": "code",
   "execution_count": 21,
   "metadata": {},
   "outputs": [],
   "source": [
    "# Try running the last example here"
   ]
  },
  {
   "cell_type": "markdown",
   "metadata": {},
   "source": [
    "# Bargains"
   ]
  },
  {
   "cell_type": "markdown",
   "metadata": {},
   "source": [
    "Because we don't use 1 cent coins anymore, when you go buy things like petrol in cash, the amount is rounded up or down to the nearest 5 cents. For example if you put $\\$5.57$ worth of petrol in your car, it would get rounded down and you would pay $\\$5.55$ in cash (saving 2 cents!). But $\\$5.58$ worth of petrol would get rounded up and cost $\\$5.60$.\n",
    "\n",
    "Life hack: Always go for the option which is rounded down!\n",
    "\n",
    "Write a program that takes the cost of an item and tells you whether the cost stays the same or is rounded down (good, pay in cash), or was rounded up (bad, you should pay by card).\n",
    "\n",
    "The output of your program should look like this:\n",
    "\n",
    "```python\n",
    "How much does it cost? 5.57\n",
    "The price didn't change or was rounded down! Pay cash!\n",
    "```\n",
    "\n",
    "```python\n",
    "How much does it cost? 5.58\n",
    "The price was rounded up! Pay card.\n",
    "```\n",
    "\n",
    "```python\n",
    "How much does it cost? 3.21\n",
    "The price didn't change or was rounded down! Pay cash!\n",
    "```\n",
    "\n",
    "> ## Hint\n",
    "> Think about multiplying the price by 100.\n",
    "\n",
    "> ## Did you know\n",
    "> This technique is called [Salami Slicing](https://en.wikipedia.org/wiki/Salami\\_slicing), and can be applied in many other circumstances."
   ]
  },
  {
   "cell_type": "code",
   "execution_count": 22,
   "metadata": {},
   "outputs": [],
   "source": [
    "# Please write your answers here"
   ]
  },
  {
   "cell_type": "markdown",
   "metadata": {},
   "source": [
    "# Choosing among many Alternatives"
   ]
  },
  {
   "cell_type": "markdown",
   "metadata": {},
   "source": [
    "What should we do if we have to decide among several, i.e. more than two, alternatives? For this case, Python offers a multi-way decision:\n",
    "\n",
    "```python\n",
    "if condition1:\n",
    "    block 1 of statements\n",
    "elif condition2:\n",
    "    block 2 of statements\n",
    "elif condition3:\n",
    "    block 3 of statements\n",
    "...\n",
    "else:\n",
    "    block n of statements\n",
    "```\n",
    "\n",
    "Try running this example of a multi-way `if` statement and enter different values to `print` different messages:\n",
    "\n",
    "```python\n",
    "number = float(input(\"Enter a number: \"))\n",
    "if number < 0:\n",
    "    print(number, \"is negative\")\n",
    "elif number < 10:\n",
    "    print(number, \"is small\")\n",
    "else:\n",
    "    print(number, \"is big!\")\n",
    "```\n",
    "\n",
    "In a multi-way `if` statement, at most one of the indented blocks will run. The conditions are tried in order until one is found that is `True`. The associated block of code is run and any remaining conditions and blocks are skipped. If none of the conditions are `True` but there is an `else` block, then Python runs the `else` block.\n"
   ]
  },
  {
   "cell_type": "code",
   "execution_count": 23,
   "metadata": {},
   "outputs": [],
   "source": [
    "# Try running the last example here"
   ]
  },
  {
   "cell_type": "markdown",
   "metadata": {},
   "source": [
    "# Important Note!"
   ]
  },
  {
   "cell_type": "markdown",
   "metadata": {},
   "source": [
    "Always (at least consider) including an `else` clause. This ensures there is always something for Python to run, and forces you to think about all the cases. If you do not have an `else` clause, but just a sequence of `if`.. `elif`... there is a chance none of the `elif` conditions are true, and then nothing happens, which could be counter to expectations. **This is a very common error!**\n",
    "\n",
    "Here is a simple example. A programmer has tried to write code which responds differently depending on whether a number is greater than or less than 5, but has forgotten to include an `else` clause. Try entering 5 and some other numbers into the following.\n",
    "\n",
    "```python\n",
    "number = int(input(\"Enter a number:\"))\n",
    "if (number > 5):\n",
    "    message = \"The number is greater than 5\"\n",
    "elif (number < 5):\n",
    "    message = \"The number is less than 5\"\n",
    "print(message)\n",
    "```"
   ]
  },
  {
   "cell_type": "code",
   "execution_count": 24,
   "metadata": {},
   "outputs": [],
   "source": [
    "# Try running the last example here"
   ]
  },
  {
   "cell_type": "markdown",
   "metadata": {},
   "source": [
    "If they had remembered to include the `else` clause they would have been forced to remember that the number could also be 5, and accounted for it properly. Note that it is also in general bad practice to define variables inside `if` blocks. Here is a better version.\n",
    "\n",
    "```python\n",
    "number = int(input(\"Enter a number:\"))\n",
    "message = \"\"\n",
    "if (number > 5):\n",
    "    message = \"The number is greater than 5\"\n",
    "elif (number < 5):\n",
    "    message = \"The number is less than 5\"\n",
    "else:\n",
    "    message = \"The number is five!\"\n",
    "print(message)\n",
    "```\n",
    "\n",
    "or even cleaner (without an explicit `else` clause, but using pre-assignment for the same purpose):\n",
    "\n",
    "```python\n",
    "number = int(input(\"Enter a number:\"))\n",
    "message = \"The number is five!\"\n",
    "if (number > 5):\n",
    "    message = \"The number is greater than 5\"\n",
    "elif (number < 5):\n",
    "    message = \"The number is less than 5\"\n",
    "print(message)\n",
    "```"
   ]
  },
  {
   "cell_type": "code",
   "execution_count": 25,
   "metadata": {},
   "outputs": [],
   "source": [
    "# Try running the last example here"
   ]
  },
  {
   "cell_type": "markdown",
   "metadata": {},
   "source": [
    "# Detecting enemies"
   ]
  },
  {
   "cell_type": "markdown",
   "metadata": {},
   "source": [
    "Now let's test our skills to help out our friend Jon Snow from *Game of Thrones*. He is having a dull moment and wants to use an app to check if people entering his camp are **enemies**! Write a simple program that asks the user to enter a name and determines whether they are enemies or not.\n",
    "\n",
    "Fortunately for us, Jon Snow has two kinds of enemies: those who can't use phones, and those who will enter one of 0, 1 or 2, because in their language *name* means \"dial a number after the prompt\" (and they can't count past 2 ... although, somewhat suspiciously, they do have a zero in their number system). The enemies who can't use phones obviously won't enter anything, and should receive the following message:\n",
    "`A luddite! GO AWAY AT ONCE!`.\n",
    "\n",
    "The enemies who think that names are single-digit numbers (specifically 0, 1 or 2) should receive: `HAHA! You may not pass!!`.\n",
    "\n",
    "Everyone else receives: `Welcome to the camp, [name], if that really is your name.` Where `[name]` should be replaced by the user's name.\n",
    "\n",
    "Your program should behave as follows:\n",
    "\n",
    "```python\n",
    "Enter your name, soldier: \n",
    "A luddite! GO AWAY AT ONCE!\n",
    "\n",
    "```\n",
    "\n",
    "```python\n",
    "Enter your name, soldier: 2\n",
    "HAHA! You may not pass!!\n",
    "\n",
    "```\n",
    "\n",
    "```python\n",
    "Enter your name, soldier: kim\n",
    "Welcome to the camp, kim, if that really is your name.\n",
    "\n",
    "```"
   ]
  },
  {
   "cell_type": "code",
   "execution_count": 26,
   "metadata": {},
   "outputs": [],
   "source": [
    "# Please write your answers here"
   ]
  },
  {
   "cell_type": "markdown",
   "metadata": {},
   "source": [
    "# Science Classification"
   ]
  },
  {
   "cell_type": "markdown",
   "metadata": {},
   "source": [
    "It's hard to keep up with the pace of progress of science at times, with new(ish) fields of science with cool-sounding names including [proteomics](https://en.wikipedia.org/wiki/Proteomics), [quantum biology](https://en.wikipedia.org/wiki/Quantum\\_biology), and computational neurolinguistics. Your job in this exercise is to write a simple scientific \"classifier\" which takes the name of a field of science as input, and prints out a (pithy) comment as follows:\n",
    "\n",
    "* if it **ends** with *omics*, your code should print `Life science hipster!`\n",
    "* if it **begins** with *comp* or *info*, your code should print `Computing ftw!`\n",
    "* if it **ends** with *y*, your code should print `Au naturel!`\n",
    "* failing all these, your code should print `Can't keep up!`\n",
    "\n",
    "\n",
    "Note that for an input which matches multiple of these conditions, the first-listed matching condition should apply (and only one message should be printed out). You may assume that the input will consist entirely of lower-case characters and spaces\n",
    "\n",
    "\n",
    "\n",
    "Your program should work like this:\n",
    "\n",
    "```python\n",
    "Hit me: proteomics\n",
    "Life science hipster!\n",
    "\n",
    "```\n",
    "\n",
    "```python\n",
    "Hit me: quantum biology\n",
    "Au naturel!\n",
    "\n",
    "```\n",
    "\n",
    "```python\n",
    "Hit me: computational neurolinguistics\n",
    "Computing ftw!\n",
    "\n",
    "```\n",
    "\n",
    "```python\n",
    "Hit me: cliodynamics\n",
    "Can't keep up!\n",
    "\n",
    "```\n",
    "\n",
    "> ## Hint\n",
    "> You will later learn how to extract prefixes and suffixes from strings, but for our purposes here, the safest way to ensure that a substring match is at the start or end of the string is to pre-insert a special character which is uniquely associated with that position in the string (e.g. `^` at the start of the string and `$` at the end of the string, although in practice, any discrete characters which are not lower-case characters or spaces would work), and include that special character in the substring you are matching against the input string.\n",
    "> (Advanced, Optional): This technique is a part of *Regular Expressions* (RegEx, pronounce Reg like Regular and Ex like Expression, hence REGularEXpression). You will learn about these in more details over the coming weeks."
   ]
  },
  {
   "cell_type": "code",
   "execution_count": 27,
   "metadata": {},
   "outputs": [],
   "source": [
    "# Please write your answers here"
   ]
  },
  {
   "cell_type": "markdown",
   "metadata": {},
   "source": [
    "# Season's Greetings"
   ]
  },
  {
   "cell_type": "markdown",
   "metadata": {},
   "source": [
    "Write a program which asks the user for a month of the year, as a number between 1 and 12. Your program must then print one of the following messages depending on the season the specific month falls in:\n",
    "\n",
    "* `It's summer. Have fun in the sun!` if the number is 1, 2 or 12.\n",
    "* `It's autumn. Enjoy the beautiful sunsets!` if the number is between 3 and 5 (inclusive).\n",
    "* `It's winter. Go skiing!` if the number is between 6 and 8 (inclusive).\n",
    "* `It's spring. Check out the spring racing carnival!` if the number is between 9 and 11 (inclusive).\n",
    "* Your program should print an error message `Invalid input. Please enter any number between 1 and 12.` if any other number is encountered.\n",
    "\n",
    "\n",
    "For example:\n",
    "\n",
    "```python\n",
    "Enter the month (1-12): 2\n",
    "It's summer. Have fun in the sun!\n",
    "\n",
    "```\n",
    "\n",
    "```python\n",
    "Enter the month (1-12): 4\n",
    "It's autumn. Enjoy the beautiful sunsets!\n",
    "\n",
    "```\n",
    "\n",
    "```python\n",
    "Enter the month (1-12): 7\n",
    "It's winter. Go skiing!\n",
    "\n",
    "```\n",
    "\n",
    "```python\n",
    "Enter the month (1-12): 10\n",
    "It's spring. Check out the spring racing carnival!\n",
    "\n",
    "```\n",
    "\n",
    "```python\n",
    "Enter the month (1-12): 13\n",
    "Invalid input. Please enter any number between 1 and 12.\n",
    "\n",
    "```"
   ]
  },
  {
   "cell_type": "code",
   "execution_count": 28,
   "metadata": {},
   "outputs": [],
   "source": [
    "# Please write your answers here"
   ]
  }
 ],
 "metadata": {
  "kernelspec": {
   "display_name": "Python 3 (ipykernel)",
   "language": "python",
   "name": "python3"
  },
  "language_info": {
   "codemirror_mode": {
    "name": "ipython",
    "version": 3
   },
   "file_extension": ".py",
   "mimetype": "text/x-python",
   "name": "python",
   "nbconvert_exporter": "python",
   "pygments_lexer": "ipython3",
   "version": "3.8.10"
  },
  "latex_envs": {
   "LaTeX_envs_menu_present": true,
   "autoclose": false,
   "autocomplete": true,
   "bibliofile": "biblio.bib",
   "cite_by": "apalike",
   "current_citInitial": 1,
   "eqLabelWithNumbers": true,
   "eqNumInitial": 1,
   "hotkeys": {
    "equation": "Ctrl-E",
    "itemize": "Ctrl-I"
   },
   "labels_anchors": false,
   "latex_user_defs": false,
   "report_style_numbering": false,
   "user_envs_cfg": false
  },
  "toc": {
   "base_numbering": 1,
   "nav_menu": {},
   "number_sections": true,
   "sideBar": true,
   "skip_h1_title": false,
   "title_cell": "Table of Contents",
   "title_sidebar": "Contents",
   "toc_cell": false,
   "toc_position": {},
   "toc_section_display": true,
   "toc_window_display": false
  },
  "varInspector": {
   "cols": {
    "lenName": 16,
    "lenType": 16,
    "lenVar": 40
   },
   "kernels_config": {
    "python": {
     "delete_cmd_postfix": "",
     "delete_cmd_prefix": "del ",
     "library": "var_list.py",
     "varRefreshCmd": "print(var_dic_list())"
    },
    "r": {
     "delete_cmd_postfix": ") ",
     "delete_cmd_prefix": "rm(",
     "library": "var_list.r",
     "varRefreshCmd": "cat(var_dic_list()) "
    }
   },
   "types_to_exclude": [
    "module",
    "function",
    "builtin_function_or_method",
    "instance",
    "_Feature"
   ],
   "window_display": false
  }
 },
 "nbformat": 4,
 "nbformat_minor": 1
}
