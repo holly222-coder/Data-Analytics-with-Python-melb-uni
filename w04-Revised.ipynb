{
 "cells": [
  {
   "cell_type": "markdown",
   "metadata": {},
   "source": [
    "# Sequences"
   ]
  },
  {
   "cell_type": "markdown",
   "metadata": {},
   "source": [
    "A fundamental type of object in Python is the **sequence**. A sequence is like a numbered list of objects, kind of like a shopping list. The main sequences we will deal with in this course are strings (which we described in worksheet 1), lists and tuples.\n"
   ]
  },
  {
   "cell_type": "markdown",
   "metadata": {},
   "source": [
    "# Strings as sequences"
   ]
  },
  {
   "cell_type": "markdown",
   "metadata": {},
   "source": [
    "We begin our discussion of sequences with a detailed look at strings. Strings look like this:\n",
    "\n",
    "`'44 cats?!'`\n",
    "\n",
    "They are **sequences** of smaller strings, one for each character. The positions of characters within a string are numbered, starting with the first character being position number 0, and proceeding sequentially from left to right. For example, the different characters in the string `\"Python\"` are numbered as follows:\n",
    "\n",
    "<center>\n",
    "<table border=\"1\">\n",
    "<colgroup>\n",
    "<col width=\"26%\">\n",
    "<col width=\"9%\">\n",
    "<col width=\"9%\">\n",
    "<col width=\"9%\">\n",
    "<col width=\"9%\">\n",
    "<col width=\"9%\">\n",
    "<col width=\"9%\">\n",
    "</colgroup>\n",
    "<tbody valign=\"top\">\n",
    "<tr><td>character</td>\n",
    "<td><code data-lang=\"str\">P</code></td>\n",
    "<td><code data-lang=\"str\">y</code></td>\n",
    "<td><code data-lang=\"str\">t</code></td>\n",
    "<td><code data-lang=\"str\">h</code></td>\n",
    "<td><code data-lang=\"str\">o</code></td>\n",
    "<td><code data-lang=\"str\">n</code></td>\n",
    "</tr>\n",
    "<tr class=\"row-even\"><td>index</td>\n",
    "<td><code data-lang=\"py3\">0</code></td>\n",
    "<td><code data-lang=\"py3\">1</code></td>\n",
    "<td><code data-lang=\"py3\">2</code></td>\n",
    "<td><code data-lang=\"py3\">3</code></td>\n",
    "<td><code data-lang=\"py3\">4</code></td>\n",
    "<td><code data-lang=\"py3\">5</code></td>\n",
    "</tr>\n",
    "</tbody>\n",
    "</table>\n",
    "</center>\n",
    "\n",
    "To access a character at a particular position, we specify its position number inside square brackets. This technique is called **indexing** or subscripting the string. The position we specify inside the square brackets is called the **index**. Here is an example:"
   ]
  },
  {
   "cell_type": "code",
   "execution_count": 1,
   "metadata": {},
   "outputs": [
    {
     "name": "stdout",
     "output_type": "stream",
     "text": [
      "T\n",
      "h\n"
     ]
    }
   ],
   "source": [
    "s = \"The number is 42.\"\n",
    "print(s[0])\n",
    "print(s[1])"
   ]
  },
  {
   "cell_type": "markdown",
   "metadata": {},
   "source": [
    "Every character in the string can be indexed in this way. Try to work out what the result will be before running the following:\n",
    "\n",
    "```python\n",
    "s = \"The number is 42.\"\n",
    "print(s[3])\n",
    "print(s[16])\n",
    "```"
   ]
  },
  {
   "cell_type": "code",
   "execution_count": 29,
   "metadata": {},
   "outputs": [],
   "source": [
    "# Try running the last example here"
   ]
  },
  {
   "cell_type": "markdown",
   "metadata": {},
   "source": [
    "The index `0` returns the first letter of the string, i.e., `T`, the index `1` the second letter `h` and so forth. Note that the index `3` returns the space between `The` and `number`. The string has 17 characters in total (including blank spaces and the full stop), so the last valid index is 16 and returns `.`, as expected.\n",
    "\n",
    "> ## Zero Offset\n",
    "> You may think it odd that the index started from 0 rather than 1, but this is a common practice in programming and more generally in Computer Science. So common, in fact, that it has a name: **zero offset**. There are good technical reasons for preferring zero-offset indexing, but they are beyond the scope of this subject."
   ]
  },
  {
   "cell_type": "markdown",
   "metadata": {},
   "source": [
    "# More on String Indexing"
   ]
  },
  {
   "cell_type": "markdown",
   "metadata": {},
   "source": [
    "What happens when we try to access an index that is outside of the string? Try running the following code:\n",
    "\n",
    "```python\n",
    "s = \"The number is 42.\"\n",
    "print(s[17])\n",
    "```"
   ]
  },
  {
   "cell_type": "code",
   "execution_count": 3,
   "metadata": {},
   "outputs": [],
   "source": [
    "# Try running the last example here"
   ]
  },
  {
   "cell_type": "markdown",
   "metadata": {},
   "source": [
    "The index `17` is outside of the range of valid indices and an attempt to access an invalid index results in an error message. How do you find out the largest valid index in a string without having to count yourself? The largest valid index is one less than the length of the string (remember that we start counting from `0`). Python has a built-in function for that purpose: the `len` function. The `len` function is used like this:"
   ]
  },
  {
   "cell_type": "code",
   "execution_count": 4,
   "metadata": {},
   "outputs": [
    {
     "name": "stdout",
     "output_type": "stream",
     "text": [
      "17\n",
      "5\n"
     ]
    }
   ],
   "source": [
    "s = \"The number is 42.\"\n",
    "n = len(s)\n",
    "print(n)\n",
    "print(len(\"Hello\"))"
   ]
  },
  {
   "cell_type": "markdown",
   "metadata": {},
   "source": [
    "Note that `len` works a bit like the `print` function: you give it the string you want to measure the length of inside parentheses. However, unlike the `print` function, the output of `len` is an `int`: the number of characters in the string."
   ]
  },
  {
   "cell_type": "markdown",
   "metadata": {},
   "source": [
    "# Negative string indexing"
   ]
  },
  {
   "cell_type": "markdown",
   "metadata": {},
   "source": [
    "We have seen what happens when the index is too large. What happens if the index is less than 0?"
   ]
  },
  {
   "cell_type": "code",
   "execution_count": 5,
   "metadata": {},
   "outputs": [
    {
     "name": "stdout",
     "output_type": "stream",
     "text": [
      ".\n",
      "2\n",
      "4\n",
      "T\n"
     ]
    }
   ],
   "source": [
    "s = \"The number is 42.\"\n",
    "print(s[-1])\n",
    "print(s[-2])\n",
    "print(s[-3])\n",
    "print(s[-17])"
   ]
  },
  {
   "cell_type": "markdown",
   "metadata": {},
   "source": [
    "This does not generate an error. Instead, negative indices work from the end of the string, so `-1` indexes the last character, which is *.* and `-17` indexes the 17th last character, which is *T* (actually the first character of the string). Returning to our example of `\"Python\"` from earlier, the negative index of each character is as follows:\n",
    "\n",
    "<center>\n",
    "<table border=\"1\">\n",
    "<colgroup>\n",
    "<col width=\"26%\">\n",
    "<col width=\"9%\">\n",
    "<col width=\"9%\">\n",
    "<col width=\"9%\">\n",
    "<col width=\"9%\">\n",
    "<col width=\"9%\">\n",
    "<col width=\"9%\">\n",
    "</colgroup>\n",
    "<tbody valign=\"top\">\n",
    "<tr><td>character</td>\n",
    "<td><code data-lang=\"str\">P</code></td>\n",
    "<td><code data-lang=\"str\">y</code></td>\n",
    "<td><code data-lang=\"str\">t</code></td>\n",
    "<td><code data-lang=\"str\">h</code></td>\n",
    "<td><code data-lang=\"str\">o</code></td>\n",
    "<td><code data-lang=\"str\">n</code></td>\n",
    "</tr>\n",
    "<tr class=\"row-even\"><td>index</td>\n",
    "<td><code data-lang=\"py3\">-6</code></td>\n",
    "<td><code data-lang=\"py3\">-5</code></td>\n",
    "<td><code data-lang=\"py3\">-4</code></td>\n",
    "<td><code data-lang=\"py3\">-3</code></td>\n",
    "<td><code data-lang=\"py3\">-2</code></td>\n",
    "<td><code data-lang=\"py3\">-1</code></td>\n",
    "</tr>\n",
    "</tbody>\n",
    "</table>\n",
    "</center>\n",
    "\n",
    "You have now learned two ways to access the characters in a string, from the start or from the end!\n",
    "\n",
    "> ## Another aside\n",
    "> Note the negative indexes are one-offset (i.e. start from `-1`) while the positive indexes are zero-offset (i.e. start from `0`). Why do you think this is?"
   ]
  },
  {
   "cell_type": "markdown",
   "metadata": {},
   "source": [
    "# String indexing exercise 1"
   ]
  },
  {
   "cell_type": "markdown",
   "metadata": {},
   "source": [
    "Write a small program that asks the user to enter some text and then prints the second character *and* the second last character of the text they entered.\n",
    "\n",
    "The output of your program should look like this (but the text may be different!):\n",
    "\n",
    "```python\n",
    "Enter some text: Hello, my name is Sandy!\n",
    "e\n",
    "y\n",
    "\n",
    "```\n",
    "\n",
    "> ## Hint\n",
    "> Your program only needs to work on text with at least 2 characters in it. Don't worry if your program generates an error when a user enters a string with 1 character or fewer."
   ]
  },
  {
   "cell_type": "code",
   "execution_count": 6,
   "metadata": {},
   "outputs": [],
   "source": [
    "# Please write your answers here"
   ]
  },
  {
   "cell_type": "markdown",
   "metadata": {},
   "source": [
    "# Accessing Substrings (Slicing)"
   ]
  },
  {
   "cell_type": "markdown",
   "metadata": {},
   "source": [
    "Up to now, you have been able to access individual characters of a string. You could access a sequence of letters of a string, i.e., a substring, by concatenating each character of this sequence. This, however, quickly becomes cumbersome if the substring is longer than a few characters.\n",
    "\n",
    "Python provides a convenient method to access a substring: you simply need to specify a start and (non-inclusive) end index. This method is also known as **slicing**. For example, the following code accesses the substring of the string `\"The number is 42.\"` starting at index `1`, up to (but not including) index `6`."
   ]
  },
  {
   "cell_type": "code",
   "execution_count": 7,
   "metadata": {},
   "outputs": [
    {
     "name": "stdout",
     "output_type": "stream",
     "text": [
      "he nu\n"
     ]
    }
   ],
   "source": [
    "s = \"The number is 42.\"\n",
    "print(s[1:6])"
   ]
  },
  {
   "cell_type": "markdown",
   "metadata": {},
   "source": [
    "The notation `1:6` is known as a slice. Instead, you could have also printed the characters `s[1]`, `s[2]`, `s[3]`, `s[4]`, and `s[5]`. Remember that a slice starts at the first index but finishes one before the end index. This is consistent with indexing: indexing also starts from zero and goes up to one before the length of the string. You can see this by slicing with the value of `len`:"
   ]
  },
  {
   "cell_type": "code",
   "execution_count": 8,
   "metadata": {},
   "outputs": [
    {
     "name": "stdout",
     "output_type": "stream",
     "text": [
      "17\n",
      "The number is 42.\n"
     ]
    }
   ],
   "source": [
    "s = \"The number is 42.\"\n",
    "print(len(s))\n",
    "print(s[0:len(s)])"
   ]
  },
  {
   "cell_type": "markdown",
   "metadata": {},
   "source": [
    "# More Slicing"
   ]
  },
  {
   "cell_type": "markdown",
   "metadata": {},
   "source": [
    "You can also slice with negative indices. The same basic rule of starting from the start index and stopping one before the end index applies:"
   ]
  },
  {
   "cell_type": "code",
   "execution_count": 9,
   "metadata": {},
   "outputs": [
    {
     "name": "stdout",
     "output_type": "stream",
     "text": [
      "number\n",
      " is 42\n",
      "is 42.\n"
     ]
    }
   ],
   "source": [
    "s = \"The number is 42.\"\n",
    "print(s[4:-7])\n",
    "print(s[-7:-1])\n",
    "print(s[-6:len(s)])"
   ]
  },
  {
   "cell_type": "markdown",
   "metadata": {},
   "source": [
    "Python provides two shortcuts for common slice values:\n",
    "\n",
    "1. if the start index is 0 then you can leave it blank\n",
    "2. if the end index is the length of the string then you can leave it blank\n",
    "\n",
    "like this:"
   ]
  },
  {
   "cell_type": "code",
   "execution_count": 10,
   "metadata": {},
   "outputs": [
    {
     "name": "stdout",
     "output_type": "stream",
     "text": [
      "The n\n",
      "umber is 42.\n",
      "The number is 42.\n"
     ]
    }
   ],
   "source": [
    "s = \"The number is 42.\"\n",
    "print(s[:5])\n",
    "print(s[5:])\n",
    "print(s[:])"
   ]
  },
  {
   "cell_type": "markdown",
   "metadata": {},
   "source": [
    "# Changing the Step Size and Direction"
   ]
  },
  {
   "cell_type": "markdown",
   "metadata": {},
   "source": [
    "You can specify a third number which indicates how much to step through the list by. For example, if you want every second element you can do this:"
   ]
  },
  {
   "cell_type": "code",
   "execution_count": 11,
   "metadata": {},
   "outputs": [
    {
     "name": "stdout",
     "output_type": "stream",
     "text": [
      "ace\n"
     ]
    }
   ],
   "source": [
    "s = \"abcdef\"\n",
    "print(s[::2])"
   ]
  },
  {
   "cell_type": "markdown",
   "metadata": {},
   "source": [
    "Or you can specify a range with a step:"
   ]
  },
  {
   "cell_type": "code",
   "execution_count": 12,
   "metadata": {},
   "outputs": [
    {
     "name": "stdout",
     "output_type": "stream",
     "text": [
      "ac\n"
     ]
    }
   ],
   "source": [
    "s = \"abcdef\"\n",
    "print(s[0:3:2])"
   ]
  },
  {
   "cell_type": "markdown",
   "metadata": {},
   "source": [
    "If this third number is -1 it changes the direction you are slicing in:"
   ]
  },
  {
   "cell_type": "code",
   "execution_count": 13,
   "metadata": {},
   "outputs": [
    {
     "name": "stdout",
     "output_type": "stream",
     "text": [
      "cba\n",
      "cb\n",
      "cb\n"
     ]
    }
   ],
   "source": [
    "s = \"abcdef\"\n",
    "print(s[2::-1])\n",
    "print(s[2:0:-1])\n",
    "print(s[-4:-6:-1])"
   ]
  },
  {
   "cell_type": "markdown",
   "metadata": {},
   "source": [
    "Note that the direction of the indices must be changed also. If there is nothing in between the indices, an empty string is returned (unlike indexing beyond the ends of the string, which led to an error):"
   ]
  },
  {
   "cell_type": "code",
   "execution_count": 14,
   "metadata": {},
   "outputs": [
    {
     "name": "stdout",
     "output_type": "stream",
     "text": [
      "\n"
     ]
    }
   ],
   "source": [
    "s = \"abcdef\"\n",
    "print(s[0:2:-1])"
   ]
  },
  {
   "cell_type": "markdown",
   "metadata": {},
   "source": [
    "# Slicing Exercise"
   ]
  },
  {
   "cell_type": "markdown",
   "metadata": {},
   "source": [
    "For this problem you must write a program that can extract the cost of, for example, one chocolate bar when given a sentence like `How much did 25 chocolate bars cost? $63.75!` Your program must first read a sentence from input. It should then use slicing to get the number of items and the total cost, and convert those values from strings into numbers. Finally, your program must calculate and print the cost of a single item.\n",
    "\n",
    "The output of your program should look like this:\n",
    "\n",
    "```python\n",
    "Question: How much did 25 chocolate bars cost? $63.75!\n",
    "$2.55\n",
    "\n",
    "```\n",
    "\n",
    "Your program must still work if the sentence contains a different number, cost, or type of items:\n",
    "\n",
    "```python\n",
    "Question: How much did 10 cans of cola cost? $35.00!\n",
    "$3.50\n",
    "\n",
    "```\n",
    "\n",
    "For this problem, you may assume that **the number of items is always 2 digits** (that is, it is between ```10``` and ```99``` ) and occurs after the phrase ```'How much did '```. You may also assume that the **total cost is always between ```10``` and ```99``` dollars with cents (in the form of two digits)**, and appears at the end of a sentence (followed with an exclamation mark).\n",
    "\n",
    "> ## Hint\n",
    "> You might want to convert the amout from dollars and cents into a whole number of cents, and use integer division (`//`) and modulus (`%`) to separate out the dollar and cent amounts."
   ]
  },
  {
   "cell_type": "code",
   "execution_count": 15,
   "metadata": {},
   "outputs": [],
   "source": [
    "# Please write your answers here"
   ]
  },
  {
   "cell_type": "markdown",
   "metadata": {},
   "source": [
    "# Backwards name"
   ]
  },
  {
   "cell_type": "markdown",
   "metadata": {},
   "source": [
    "Have you ever wondered what your name is written backwards? Write a program that asks the user for their name and returns it written backwards. Compare with your classmates and see who would like to be called by their name written backwards. Apparently, there's a reason we write our names forwards!\n",
    "\n",
    "The output of your program should look like this:\n",
    "\n",
    "```python\n",
    "What is your name? Alex\n",
    "Well hello there, xelA\n",
    "\n",
    "```\n",
    "\n",
    "> ## Hint\n",
    "> Try calling your tutor by their backwards name.\n",
    " >"
   ]
  },
  {
   "cell_type": "code",
   "execution_count": 16,
   "metadata": {},
   "outputs": [],
   "source": [
    "# Please write your answers here"
   ]
  },
  {
   "cell_type": "markdown",
   "metadata": {},
   "source": [
    "# Indefinite Article Generator"
   ]
  },
  {
   "cell_type": "markdown",
   "metadata": {},
   "source": [
    "In English, the indefinite article has two forms: *a* (used when the first sound of the following word is a consonant) and *an* (used, roughly speaking, when the first sound of the following word is a vowel). As an oversimplification of how to make this distinction, let's assume that *an* should be used when the first letter of the word it precedes is one of *a*, *e*, *i*, *o* and *u*, and *a* should be used otherwise.\n",
    "\n",
    "Write a program that asks the user to enter a phrase, and prints out that phrase preceded by `an` (with a space) if the phrase starts with a vowel, and `a` (with a space) for all other inputs **(including the empty string)**.\n",
    "\n",
    "Your program should work like this:\n",
    "\n",
    "```python\n",
    "Enter a phrase: aardvark\n",
    "an aardvark\n",
    "\n",
    "```\n",
    "\n",
    "```python\n",
    "Enter a phrase: banana\n",
    "a banana\n",
    "\n",
    "```\n",
    "\n",
    "```python\n",
    "Enter a phrase: Australian\n",
    "an Australian\n",
    "\n",
    "```\n",
    "\n",
    "Note that, based on our simple heuristic, the method will produce some outputs which are more dubious sounding, such as:\n",
    "\n",
    "```python\n",
    "Enter a phrase: honour\n",
    "a honour\n",
    "\n",
    "```\n",
    "\n",
    "```python\n",
    "Enter a phrase: unicorn\n",
    "an unicorn\n",
    "\n",
    "```\n",
    "\n",
    "> ## Hint\n",
    "> One string method that you might find useful is `.lower()`, which returns a copy of the string that it is called from, converted to lower case, e.g.:\n",
    "> ```python\n",
    "> print(\"Apologies to Chekov\".lower())\n",
    "> ```\n",
    "\n",
    "> ## Index Errors\n",
    "> If you're having trouble with Index Errors for one of the test cases, have a read back over the problem description and think about whether your code has asked for an element of a string which might not exist. For example:\n",
    "> ```python\n",
    "> my_string = \"abc\"\n",
    "> print(my_string[5])\n",
    "> ```\n",
    "> How might you test for this to ensure the error-causing code doesn't run?"
   ]
  },
  {
   "cell_type": "code",
   "execution_count": 17,
   "metadata": {},
   "outputs": [],
   "source": [
    "# Please write your answers here"
   ]
  },
  {
   "cell_type": "markdown",
   "metadata": {},
   "source": [
    "# Extension to Lists: Basics"
   ]
  },
  {
   "cell_type": "markdown",
   "metadata": {},
   "source": [
    "The second kind of sequence we will look at is called a `list`. Lists are for storing sequences of possibly different objects. You might, for example, want to store a list of words, to find which one was the longest. Or you might want to store a list of numbers, such as the costs of different items. Or maybe lists of both. You would define these lists like so:"
   ]
  },
  {
   "cell_type": "code",
   "execution_count": 18,
   "metadata": {},
   "outputs": [
    {
     "name": "stdout",
     "output_type": "stream",
     "text": [
      "[5.0, 12.0, 200000000.59]\n"
     ]
    }
   ],
   "source": [
    "my_words = ['pig','pineapple','panoply','polyp']\n",
    "my_costs = [5.0, 12.0, 200000000.59]\n",
    "my_jumble = ['jumbly', 'wumbly', 'number', 5]\n",
    "print(my_costs)"
   ]
  },
  {
   "cell_type": "markdown",
   "metadata": {},
   "source": [
    "An empty list looks like this:"
   ]
  },
  {
   "cell_type": "code",
   "execution_count": 19,
   "metadata": {},
   "outputs": [],
   "source": [
    "empty = []"
   ]
  },
  {
   "cell_type": "markdown",
   "metadata": {},
   "source": [
    "# Extension to Lists: Indexing"
   ]
  },
  {
   "cell_type": "markdown",
   "metadata": {},
   "source": [
    "Once you have created a list, you can do all the things you have seen for strings as both are sequences (strings are sequences of characters, and lists are sequences of whatever objects you like).\n",
    "\n",
    "You can index them forwards and backwards by certain amounts:"
   ]
  },
  {
   "cell_type": "code",
   "execution_count": 20,
   "metadata": {},
   "outputs": [
    {
     "name": "stdout",
     "output_type": "stream",
     "text": [
      "['jumbly', 'wumbly', 'number', 5]\n",
      "wumbly\n",
      "5\n",
      "[5, 'number']\n"
     ]
    }
   ],
   "source": [
    "my_jumble = ['jumbly', 'wumbly', 'number', 5]\n",
    "print(my_jumble)\n",
    "print(my_jumble[1])\n",
    "print(my_jumble[-1])\n",
    "print(my_jumble[:1:-1])"
   ]
  },
  {
   "cell_type": "markdown",
   "metadata": {},
   "source": [
    "You can find the length of them:"
   ]
  },
  {
   "cell_type": "code",
   "execution_count": 21,
   "metadata": {},
   "outputs": [
    {
     "name": "stdout",
     "output_type": "stream",
     "text": [
      "4\n"
     ]
    }
   ],
   "source": [
    "my_jumble = ['jumbly', 'wumbly', 'number', 5]\n",
    "print(len(my_jumble))"
   ]
  },
  {
   "cell_type": "markdown",
   "metadata": {},
   "source": [
    "And, of course, similarly to strings, you can hit up against an `IndexError` if you try to access an element which isn't there:\n",
    "\n",
    "```python\n",
    "my_jumble = ['jumbly', 'wumbly', 'number', 5]\n",
    "print(len(my_jumble))\n",
    "print(my_jumble[9])\n",
    "```"
   ]
  },
  {
   "cell_type": "code",
   "execution_count": 22,
   "metadata": {},
   "outputs": [],
   "source": [
    "# Try running the last example here"
   ]
  },
  {
   "cell_type": "markdown",
   "metadata": {},
   "source": [
    "**Take note of this! This is a very common error when dealing with lists.**"
   ]
  },
  {
   "cell_type": "markdown",
   "metadata": {},
   "source": [
    "# Extension to Lists: Concatenation and Membership"
   ]
  },
  {
   "cell_type": "markdown",
   "metadata": {},
   "source": [
    "Remember that we were able to concatenate strings (join them together with the `+` operator). We can also do this with lists:"
   ]
  },
  {
   "cell_type": "code",
   "execution_count": 23,
   "metadata": {},
   "outputs": [
    {
     "name": "stdout",
     "output_type": "stream",
     "text": [
      "Sufjan Stevens\n",
      "[1, 2, 3, 4, 5, 6]\n"
     ]
    }
   ],
   "source": [
    "my_string = \"Sufjan\" + \" Stevens\"\n",
    "print(my_string)\n",
    "my_list = [1, 2, 3] + [4, 5, 6]\n",
    "print(my_list)"
   ]
  },
  {
   "cell_type": "markdown",
   "metadata": {},
   "source": [
    "And remember what `*` does when applied to strings? It works analogously for lists:"
   ]
  },
  {
   "cell_type": "code",
   "execution_count": 24,
   "metadata": {},
   "outputs": [
    {
     "name": "stdout",
     "output_type": "stream",
     "text": [
      "hahahahahahahahahaha\n",
      "[1, 2, 3, 1, 2, 3, 1, 2, 3, 1, 2, 3, 1, 2, 3]\n"
     ]
    }
   ],
   "source": [
    "my_string = \"haha\" * 5\n",
    "print(my_string)\n",
    "my_list = [1, 2, 3] * 5\n",
    "print(my_list)"
   ]
  },
  {
   "cell_type": "markdown",
   "metadata": {},
   "source": [
    "Finally, the `in` operator also works for lists. Try to guess what the following will output:\n",
    "\n",
    "```\n",
    "my_string = \"haha\"\n",
    "print(\"a\" in my_string)\n",
    "my_list = [1, 2, 3]\n",
    "print(1 in my_list)\n",
    "```"
   ]
  },
  {
   "cell_type": "code",
   "execution_count": 25,
   "metadata": {},
   "outputs": [],
   "source": [
    "# Try running the last example here"
   ]
  },
  {
   "cell_type": "markdown",
   "metadata": {},
   "source": [
    "> ## Overloading\n",
    "> When an operator works for more than one data type (like `+`, which works for sequences and numeric types), we say that operator is **overloaded**."
   ]
  },
  {
   "cell_type": "markdown",
   "metadata": {},
   "source": [
    "# Extension to Tuples"
   ]
  },
  {
   "cell_type": "markdown",
   "metadata": {},
   "source": [
    "The final kind of sequence we will look at is a `tuple`. This is essentially the same as a list in that it can contain any combination of objects, but it can't be changed after creation (it is **immutable** — more on this in Worksheet 8). It might seem a bit silly now, but will hopefully make more sense later in the subject.\n",
    "\n",
    "A `tuple` is defined similarly to a `list`, but with round brackets (or \"parentheses\") rather than square brackets. An empty tuple is a pair of round brackets with nothing between them. A tuple with one item is a pair of round brackets around a value followed by a comma (what would a pair of round brackets around a value without a comma be?). See below:"
   ]
  },
  {
   "cell_type": "code",
   "execution_count": 26,
   "metadata": {},
   "outputs": [
    {
     "name": "stdout",
     "output_type": "stream",
     "text": [
      "0\n",
      "1\n"
     ]
    }
   ],
   "source": [
    "empty = ()\n",
    "print(len(empty))\n",
    "single = (3,)\n",
    "print(len(single))"
   ]
  },
  {
   "cell_type": "markdown",
   "metadata": {},
   "source": [
    "And we can do all the same things as we have seen over other sequences, e.g.:"
   ]
  },
  {
   "cell_type": "code",
   "execution_count": 27,
   "metadata": {},
   "outputs": [
    {
     "name": "stdout",
     "output_type": "stream",
     "text": [
      "('height', 3, 'age', 70)\n",
      "3\n",
      "70\n",
      "(70, 'age')\n"
     ]
    }
   ],
   "source": [
    "my_tuple = ('height', 3, 'age', 70)\n",
    "print(my_tuple)\n",
    "print(my_tuple[1])\n",
    "print(my_tuple[-1])\n",
    "print(my_tuple[:1:-1])"
   ]
  },
  {
   "cell_type": "markdown",
   "metadata": {},
   "source": [
    "(Important) We can also assign variables directly over the values of a tuple. Consider coordinates:"
   ]
  },
  {
   "cell_type": "code",
   "execution_count": 1,
   "metadata": {
    "ExecuteTime": {
     "end_time": "2021-09-27T02:18:44.318150Z",
     "start_time": "2021-09-27T02:18:44.314720Z"
    }
   },
   "outputs": [
    {
     "name": "stdout",
     "output_type": "stream",
     "text": [
      "-1\n",
      "7\n"
     ]
    }
   ],
   "source": [
    "# coordinates in form of (x, y)\n",
    "coordinate = (-1, 7)\n",
    "x, y = coordinate\n",
    "print(x)\n",
    "print(y)"
   ]
  },
  {
   "cell_type": "markdown",
   "metadata": {},
   "source": [
    "There is a more complete list of all the operations and properties of sequences [here](https://docs.python.org/3/library/stdtypes.html)"
   ]
  },
  {
   "cell_type": "markdown",
   "metadata": {},
   "source": [
    "# The Culprit"
   ]
  },
  {
   "cell_type": "markdown",
   "metadata": {},
   "source": [
    "James Bond has captured 7 of his arch nemeses. He knows that one of them is the culprit behind the most dastardly plan in the universe, but is not sure which one. However, he has a trick up his sleeve. He knows that Hugo (one of the 7) is not very clever and also that Hugo knows who did it. So he will present Hugo with a list of names with some confusing information next to them, and then quickly ask him who did it. Hugo is smart enough not to say exactly who did it, but he will instead always say the name of the *preceding* person in the list, which will be numbered from 1 to 7 (with a response of 1 indicating that it is person 2, and 7 indicating that the culprit is person 1).\n",
    "\n",
    "\n",
    "Write a program that asks Hugo to give the number of the culprit, and returns the name of the person who did it along with the data associated with that individual (i.e. everything that comes after the name in the tuple). The list of possible culprits should be stored as a list of tuples, as below, where each tuple contains a name (a string) and a variable number of data points associated with that individual (each of which is a string). Assume the input is a positive integer. The data associated with the individual must be returned in the form of a tuple (possibly empty). \n",
    "\n",
    "\n",
    "\n",
    "```python\n",
    "[(\"Max Zorin\", \"Kills with guns\", \"Chip Tycoon\"), (\"Hugo Drax\",), (\"Jaws\", \"Bites people\", \"Mutant\"),(\"Nick Nack\", \"Really short\"),(\"Le Chiffre\", \"Good at poker\", \"Really evil\"),(\"Francisco Scaramanga\", \"Has a Golden Gun\", \"Probably will melt\"),(\"Mr Big\", \"Also the name of a rock band\", \"Dictator of San Monique\")]\n",
    "\n",
    "```\n",
    "\n",
    "Your program should function as below:\n",
    "\n",
    "\n",
    "\n",
    "```python\n",
    "WHO DID IT HUGO!? 2\n",
    "It was Jaws\n",
    "Data: ('Bites people', 'Mutant')\n",
    "\n",
    "```\n",
    "\n",
    "\n",
    "```python\n",
    "WHO DID IT HUGO!? 7\n",
    "It was Max Zorin\n",
    "Data: ('Kills with guns', 'Chip Tycoon')\n",
    "\n",
    "```\n",
    "\n",
    "```python\n",
    "WHO DID IT HUGO!? 1\n",
    "It was Hugo Drax\n",
    "Data: ()\n",
    "\n",
    "```\n",
    "\n",
    "\n",
    "\n",
    "Zero offset and nested lists\n",
    "----------------------------\n",
    "\n",
    "\n",
    "Remember that lists are indexed from 0. Also, if you have a nested sequence, you can extract elements of it by **nesting** the indices:\n",
    "```python\n",
    "my_list = [(4,8)]\n",
    "print(my_list[0][0])\n",
    "print(my_list[0][1])\n",
    "\n",
    "```\n",
    "\n",
    "\n"
   ]
  },
  {
   "cell_type": "code",
   "execution_count": 28,
   "metadata": {},
   "outputs": [],
   "source": [
    "suspects = [(\"Max Zorin\", \"Kills with guns\", \"Chip Tycoon\"),(\"Hugo Drax\",), \n",
    "            (\"Jaws\", \"Bites people\", \"Mutant\"), (\"Nick Nack\", \"Really short\"), \n",
    "            (\"Le Chiffre\", \"Good at poker\", \"Really evil\"),\n",
    "            (\"Francisco Scaramanga\", \"Has a Golden Gun\", \"Probably will melt\"), \n",
    "            (\"Mr Big\", \"Also the name of a rock band\", \"Dictator of San Monique\")]\n",
    "\n",
    "# Please write your answers here"
   ]
  }
 ],
 "metadata": {
  "kernelspec": {
   "display_name": "Python 3 (ipykernel)",
   "language": "python",
   "name": "python3"
  },
  "language_info": {
   "codemirror_mode": {
    "name": "ipython",
    "version": 3
   },
   "file_extension": ".py",
   "mimetype": "text/x-python",
   "name": "python",
   "nbconvert_exporter": "python",
   "pygments_lexer": "ipython3",
   "version": "3.8.10"
  },
  "latex_envs": {
   "LaTeX_envs_menu_present": true,
   "autoclose": false,
   "autocomplete": true,
   "bibliofile": "biblio.bib",
   "cite_by": "apalike",
   "current_citInitial": 1,
   "eqLabelWithNumbers": true,
   "eqNumInitial": 1,
   "hotkeys": {
    "equation": "Ctrl-E",
    "itemize": "Ctrl-I"
   },
   "labels_anchors": false,
   "latex_user_defs": false,
   "report_style_numbering": false,
   "user_envs_cfg": false
  },
  "toc": {
   "base_numbering": 1,
   "nav_menu": {},
   "number_sections": true,
   "sideBar": true,
   "skip_h1_title": false,
   "title_cell": "Table of Contents",
   "title_sidebar": "Contents",
   "toc_cell": false,
   "toc_position": {},
   "toc_section_display": true,
   "toc_window_display": false
  },
  "varInspector": {
   "cols": {
    "lenName": 16,
    "lenType": 16,
    "lenVar": 40
   },
   "kernels_config": {
    "python": {
     "delete_cmd_postfix": "",
     "delete_cmd_prefix": "del ",
     "library": "var_list.py",
     "varRefreshCmd": "print(var_dic_list())"
    },
    "r": {
     "delete_cmd_postfix": ") ",
     "delete_cmd_prefix": "rm(",
     "library": "var_list.r",
     "varRefreshCmd": "cat(var_dic_list()) "
    }
   },
   "types_to_exclude": [
    "module",
    "function",
    "builtin_function_or_method",
    "instance",
    "_Feature"
   ],
   "window_display": false
  }
 },
 "nbformat": 4,
 "nbformat_minor": 1
}
