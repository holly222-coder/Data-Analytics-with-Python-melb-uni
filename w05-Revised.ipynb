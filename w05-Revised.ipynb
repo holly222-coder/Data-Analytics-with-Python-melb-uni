{
 "cells": [
  {
   "cell_type": "markdown",
   "metadata": {},
   "source": [
    "# What is a Function?"
   ]
  },
  {
   "cell_type": "markdown",
   "metadata": {},
   "source": [
    "A function is like your pet goat: it has an input (food), does something, and usually produces an output (...). Another way of viewing it is a nice shorthand for a formula.\n",
    "\n",
    "Suppose we have the following formula for the number of [standard drinks](http://www.alcohol.gov.au/internet/alcohol/publishing.nsf/Content/standard) in a drink:\n",
    "\n",
    "```std_drinks = volume * percentage * 0.789```\n"
   ]
  },
  {
   "cell_type": "markdown",
   "metadata": {},
   "source": [
    "Here `volume` is a variable (the size of your drink in litres), and `percentage` is the percentage of alcohol. For example if you had a Long Island Iced Tea, which is 0.375L and 13.5% alcohol, you would get:\n"
   ]
  },
  {
   "cell_type": "code",
   "execution_count": 1,
   "metadata": {},
   "outputs": [
    {
     "name": "stdout",
     "output_type": "stream",
     "text": [
      "3.9943125000000004\n"
     ]
    }
   ],
   "source": [
    "# Calculate the number of standard drinks contained in `volume`\n",
    "# of alcoholic drink `percentage` % of alcohol\n",
    "volume = 0.375\n",
    "percentage = 13.5\n",
    "drinks = volume * percentage * 0.789\n",
    "print(drinks)"
   ]
  },
  {
   "cell_type": "markdown",
   "metadata": {},
   "source": [
    "That many standard drinks.\n",
    "\n",
    "But what if we want to perform this calculation over different values of `volume` and `percentage`. Surely, there is a way of doing this which doesn't require us reproducing the exact same code over and over again, much like we can run in-built functions over different inputs without having to worry about the niggling details of how they operate? The answer is yes, in the form of a user-defined function:\n"
   ]
  },
  {
   "cell_type": "code",
   "execution_count": 2,
   "metadata": {},
   "outputs": [
    {
     "name": "stdout",
     "output_type": "stream",
     "text": [
      "3.9943125000000004\n",
      "1.7569452\n",
      "0.0\n"
     ]
    }
   ],
   "source": [
    "def std_drinks(volume, percentage):\n",
    "    return volume * percentage * 0.789\n",
    "    \n",
    "print(std_drinks(0.375, 13.5))\n",
    "print(std_drinks(0.586, 3.8))\n",
    "print(std_drinks(1.5, 0))"
   ]
  },
  {
   "cell_type": "markdown",
   "metadata": {},
   "source": [
    "This worksheet is all about how to define and use user-defined functions ... something that we will be doing a lot of over the remainder of this subject."
   ]
  },
  {
   "cell_type": "markdown",
   "metadata": {},
   "source": [
    "# What is a Function?"
   ]
  },
  {
   "cell_type": "markdown",
   "metadata": {},
   "source": [
    "Let's look at our example in more detail:\n"
   ]
  },
  {
   "cell_type": "code",
   "execution_count": 3,
   "metadata": {},
   "outputs": [
    {
     "name": "stdout",
     "output_type": "stream",
     "text": [
      "3.9943125000000004\n"
     ]
    }
   ],
   "source": [
    "# Calculate the number of standard drinks contained in `volume`\n",
    "# of alcoholic drink `percentage` % of alcohol\n",
    "def std_drinks(volume, percentage):\n",
    "    return volume * percentage * 0.789\n",
    "    \n",
    "# We use the function to do the calculation\n",
    "print(std_drinks(0.375, 13.5))"
   ]
  },
  {
   "cell_type": "markdown",
   "metadata": {},
   "source": [
    "The function name is `std_drinks`. `volume` and `percentage` are called **parameters**. They are very much like variables as you have seen to date, and define the inputs to the function. They take the values you provide when you **call** (i.e. use) the function. The values themselves are called **arguments**.\n",
    "\n",
    "The expression after `return` is what the function will output. In this case it is the result of the calculation, which is then printed out. [Change](https://www.youtube.com/watch?v=ZXsQAXx_ao0) the code to find the number of standard drinks in 5 litres of 5% alcohol beer, 0.1 litre of 100% alcohol, and 2 litres of (0%) water. Drink responsibly (or not at all!).\n",
    "\n",
    "> ## Answers\n",
    "> 5 litres of 5% beer contains 19.725 standard drinks, 0.1 litre of 100% alcohol contains 7.89 standard drinks, and 2 litres of water contains (surprise, surprise!) 0 standard drinks.\n"
   ]
  },
  {
   "cell_type": "markdown",
   "metadata": {},
   "source": [
    "# Why should We Use Functions?"
   ]
  },
  {
   "cell_type": "markdown",
   "metadata": {},
   "source": [
    "The great thing about functions is that we can use them as much as we like, plugging in different values for the parameters. This function is very simple, but if the function were more complex, defining and calling it repeatedly as a function would save a lot of space! Further, if there was an error in the function, we would only have to fix it once, in the function definition, rather than in every duplicate position throughout our code.\n"
   ]
  },
  {
   "cell_type": "code",
   "execution_count": 4,
   "metadata": {},
   "outputs": [
    {
     "name": "stdout",
     "output_type": "stream",
     "text": [
      "3.9943125000000004\n",
      "1.479375\n",
      "0.0\n"
     ]
    }
   ],
   "source": [
    "# Calculate the number of standard drinks contained in `volume`\n",
    "# of alcoholic drink `percentage` % of alcohol\n",
    "def std_drinks(volume, percentage):\n",
    "    return volume * percentage * 0.789\n",
    "\n",
    "print(std_drinks(0.375, 13.5))\n",
    "print(std_drinks(0.375, 5))\n",
    "print(std_drinks(1.5, 0))"
   ]
  },
  {
   "cell_type": "markdown",
   "metadata": {},
   "source": [
    "Note you can also put the argument names alongside the values in the function call and if you do, the order of the parameters doesn't matter anymore: `std_drinks(percentage=4.5, volume=0.375)` is the same as `std_drinks(0.375, 4.5)`\n"
   ]
  },
  {
   "cell_type": "markdown",
   "metadata": {},
   "source": [
    "# Other Examples"
   ]
  },
  {
   "cell_type": "markdown",
   "metadata": {},
   "source": [
    "We have actually already seen some functions, e.g.:\n",
    "\n",
    "* `len([1, 2, 3])`\n",
    "* `print(\"hello\", \"bob\")`\n",
    "\n",
    "\n",
    "Can you identify the arguments? What are their types? What are the return values and their types?\n",
    "\n",
    "We also encountered functions for converting types, like `int(1.0)`. It is important to note that `int` is also the name for the type `int`, begging the question of how Python distinguishes between the function name and the name of the type. The answer is that functions **always** have brackets after them, and Python uses this to tell the difference.\n",
    "\n",
    "> ## Hint\n",
    "> Try using the Terminal box to your right, and the `type()` function to answer the questions.\n"
   ]
  },
  {
   "cell_type": "markdown",
   "metadata": {},
   "source": [
    "# Other Examples"
   ]
  },
  {
   "cell_type": "markdown",
   "metadata": {},
   "source": [
    "`len([1, 2, 3])`: The argument is a list with value `[1, 2, 3]`, and the return value will be an integer with a value of 3.\n",
    "\n",
    "`print(\"hello\", \"bob\")`: The arguments are strings with values `\"hello\"` and `\"bob\"`. We don't need `print()` to return anything; rather, we are interested in seeing what is displayed to the user when we run the code (as a \"by-product\" of running `print()`). However, all functions must return something, and in this case it is a special default value called `None`.\n"
   ]
  },
  {
   "cell_type": "code",
   "execution_count": 5,
   "metadata": {},
   "outputs": [
    {
     "name": "stdout",
     "output_type": "stream",
     "text": [
      "Hello\n",
      "None\n"
     ]
    }
   ],
   "source": [
    "output = print(\"Hello\")\n",
    "print(output)"
   ]
  },
  {
   "cell_type": "markdown",
   "metadata": {},
   "source": [
    "This will be discussed further in a later worksheet. For now, if you see `None` in your code, it almost certainly means you aren't returning a value somewhere in your code.\n"
   ]
  },
  {
   "cell_type": "markdown",
   "metadata": {},
   "source": [
    "# The Basic Anatomy of a Function Definition"
   ]
  },
  {
   "cell_type": "markdown",
   "metadata": {},
   "source": [
    "The basic components of a function are:\n",
    "\n",
    "1. the function name;\n",
    "2. the parameters;\n",
    "3. the body, where the actual computation associated with the function occurs;\n",
    "4. some mechanism for returning a value and exiting the function.\n",
    "\n",
    "Let's go through each of those components in turn.\n",
    "\n",
    "First, to define our function we use the keyword `def`, followed by whitespace, the function name, a set of parentheses, and a colon (`:`). For example, if our function name were `my_first_function`, the following would be the skeleton of our function definition:\n",
    "\n",
    "```def my_first_function():```\n"
   ]
  },
  {
   "cell_type": "markdown",
   "metadata": {},
   "source": [
    "Function names follow exactly the same rules as variable names: they must start with a letter or an underscore (`_`), and can be made up of any combination of letters, numbers and underscores ... with the one slight proviso (as with variables) that the name can't be a reserved word such as `def` or `if`.\n",
    "\n",
    "Second, we insert the parameters within the parentheses in the function definition, separated by commas, e.g. in the case of the three arguments `num0`, `num1` and `num2`:\n",
    "\n",
    "```def my_first_function(num0, num1, num2):```"
   ]
  },
  {
   "cell_type": "markdown",
   "metadata": {},
   "source": [
    "# The Basic Anatomy of a Function Definition"
   ]
  },
  {
   "cell_type": "markdown",
   "metadata": {},
   "source": [
    "The third thing we do in a function definition is to associate the code that will be executed each time the function is called, in the form of a **block**, whitespace-indented from the function header, in the same way that we associated a block of code with an `if`, `elif` or `else` statement. Note that it's, of course, possible to have an `if` statement \"nested\" in a function, and we just have to indent the associated block of code further again, relative to the body of the function (meaning that the deeper we nest our code in Python, the further we disappear off to the right of the page!). Suppose we define a function which finds the maximum number among three numbers:\n"
   ]
  },
  {
   "cell_type": "code",
   "execution_count": 6,
   "metadata": {},
   "outputs": [],
   "source": [
    "def my_first_function(num0, num1, num2):\n",
    "    maxnum = num0\n",
    "    if num1 > maxnum:\n",
    "        maxnum = num1\n",
    "    if num2 > maxnum:\n",
    "        maxnum = num2"
   ]
  },
  {
   "cell_type": "markdown",
   "metadata": {},
   "source": [
    "This is a valid function definition, but we are missing the fourth critical component of a way of defining what is returned from the function. This is done with the `return` statement, which takes a single argument, e.g.:\n"
   ]
  },
  {
   "cell_type": "code",
   "execution_count": 7,
   "metadata": {},
   "outputs": [],
   "source": [
    "def my_first_function(num0, num1, num2):\n",
    "    maxnum = num0\n",
    "    if num1 > maxnum:\n",
    "        maxnum = num1\n",
    "    if num2 > maxnum:\n",
    "        maxnum = num2\n",
    "    return maxnum"
   ]
  },
  {
   "cell_type": "markdown",
   "metadata": {},
   "source": [
    "When you run this, what happens? Nothing? Actually, Python is executing the function definition so that the function is callable, but in the absence of actual function calls, the definition is never actually used. We will see examples of both a function definition and function calls on the next slide.\n",
    "\n",
    "> ## `return` as a statement or function?\n",
    "> `return` is a **statement** in the sense that its associated arguments are provided to its immediate right, separated by whitespace, but not in parentheses (much like the arguments to `if` are provided directly without any parentheses; different to functions such as `len`, where the arguments are provided in parentheses). Statements differ from functions in that they perform some action directly, whereas functions perform some calculation and return a value. At the risk of getting bogged down in semantics, `return` is a statement because you are ordering Python to do something directly (namely, exit the function and return a value).\n"
   ]
  },
  {
   "cell_type": "markdown",
   "metadata": {},
   "source": [
    "# Viewing Output"
   ]
  },
  {
   "cell_type": "markdown",
   "metadata": {},
   "source": [
    "It is important to recognise that earlier we were using `print()` to see output on the screen. Functions (other than `print()`) do not  display any output unless that output is explicitly printed (or you run the function directly in the terminal without assignment of the return value, in which case you will see the return value). Returning a value will not print the value. Try to guess what will be displayed in the following.\n"
   ]
  },
  {
   "cell_type": "code",
   "execution_count": 8,
   "metadata": {},
   "outputs": [],
   "source": [
    "def silly_function():\n",
    "    return \"I'm silly\"\n",
    "    \n",
    "# The function is called, and the return value stored.\n",
    "w = silly_function()"
   ]
  },
  {
   "cell_type": "code",
   "execution_count": 9,
   "metadata": {},
   "outputs": [
    {
     "name": "stdout",
     "output_type": "stream",
     "text": [
      "I'm silly\n"
     ]
    }
   ],
   "source": [
    "def silly_function():\n",
    "    return \"I'm silly\"\n",
    "    \n",
    "# The function is called, and the return value stored.\n",
    "w = silly_function()\n",
    "# The return value is printed to the screen.\n",
    "print(w)"
   ]
  },
  {
   "cell_type": "markdown",
   "metadata": {},
   "source": [
    "# Calling a User-defined Function"
   ]
  },
  {
   "cell_type": "markdown",
   "metadata": {},
   "source": [
    "Having defined a function, we can now proceed to make calls to it, in exactly the same way as built-in functions, e.g.:\n"
   ]
  },
  {
   "cell_type": "code",
   "execution_count": 10,
   "metadata": {},
   "outputs": [
    {
     "name": "stdout",
     "output_type": "stream",
     "text": [
      "3\n",
      "4\n",
      "5\n"
     ]
    }
   ],
   "source": [
    "def my_first_function(num0, num1, num2):\n",
    "    maxnum = num0\n",
    "    if num1 > maxnum:\n",
    "        maxnum = num1\n",
    "    if num2 > maxnum:\n",
    "        maxnum = num2\n",
    "    return(maxnum)\n",
    "\n",
    "print(my_first_function(1, 2.0, 3))\n",
    "print(my_first_function(4, -1, 0))\n",
    "print(my_first_function(3, 5, 1))"
   ]
  },
  {
   "cell_type": "markdown",
   "metadata": {},
   "source": [
    "A couple of things to note at this point. First, a function has to be defined before we can call it; the easiest way to guarantee this is to have the function definition precede any function calls to it in the code (e.g. try running the above code with the function calls preceding the function definition, and see what happens). Second, each time we call the function, it is evaluated with the provided arguments. In our above example, e.g., the first time we call our function, the code is executed with `1` assigned to `num0`; the second time, it is executed with `4` assigned to `num0`.\n"
   ]
  },
  {
   "cell_type": "markdown",
   "metadata": {},
   "source": [
    "# Important note"
   ]
  },
  {
   "cell_type": "markdown",
   "metadata": {},
   "source": [
    "When the `return` statement is executed in a function, the function \"stops\", and returns the value given. This means that anything in your function after the `return` statement will not be executed. Try to predict what the following will output:\n"
   ]
  },
  {
   "cell_type": "code",
   "execution_count": 11,
   "metadata": {},
   "outputs": [
    {
     "name": "stdout",
     "output_type": "stream",
     "text": [
      "Returning a number:\n",
      "1\n"
     ]
    }
   ],
   "source": [
    "def a_function():\n",
    "    print(\"Returning a number:\")\n",
    "    return 1\n",
    "    print(\"Returning another number:\")\n",
    "    return 3\n",
    "\n",
    "print(a_function())"
   ]
  },
  {
   "cell_type": "markdown",
   "metadata": {},
   "source": [
    "# First Signs of Functionality"
   ]
  },
  {
   "cell_type": "markdown",
   "metadata": {},
   "source": [
    "Time to write our first basic function.\n",
    "\n",
    "Write a function `canner_can` that takes a single argument `item` in the form of a string, and returns the string `'Can you can a [STRING] as a canner can can a can?'`, where `'[STRING]'` takes the value of `item`.\n",
    "\n",
    "The following are example calls to the function (displaying the output with `print` in each case), to illustrate its functionality:\n",
    "\n",
    "```python\n",
    ">>> print(canner_can(\"can\"))\n",
    "Can you can a can as a canner can can a can?\n",
    ">>> print(canner_can(\"apricot\"))\n",
    "Can you can a apricot as a canner can can a can?\n",
    ">>> print(canner_can(\"juicy tomato\"))\n",
    "Can you can a juicy tomato as a canner can can a can?\n",
    "```\n",
    "\n",
    "> ## Interacting with Functions\n",
    "> Next to the **Run** button in the right window, you may have noticed a **Terminal** button. The terminal button executes your code, and then provides you with a terminal window that allows you to call any functions (or other items) defined in your code. This is handy for running your own test cases (as function calls), for debugging purposes, or just to double-check the correctness of your code before submission."
   ]
  },
  {
   "cell_type": "code",
   "execution_count": 12,
   "metadata": {},
   "outputs": [],
   "source": [
    "def canner_can(item):\n",
    "    \"\"\"\" \n",
    "    canner_can takes a string item (assumed to be an animal) and \n",
    "    returns a string containing an important question about the animal \n",
    "    \"\"\"\n",
    "    # write your code here\n"
   ]
  },
  {
   "cell_type": "markdown",
   "metadata": {},
   "source": [
    "# More Basic Functionality"
   ]
  },
  {
   "cell_type": "markdown",
   "metadata": {},
   "source": [
    "Having got the basics down pat, let's beef things up a bit more, building on our first function. You might have noticed in our first example that we produced strings such as `\"a apricot\"` rather than `\"an apricot\"`. Let's fix this, based on the simple definition that the indefinite article should be `an` if it precedes a vowel, and `a` for all other inputs **(remember the empty string input!)**.\n",
    "\n",
    "Write a function `canner_can2` that takes a single argument `item` in the form of a string, and returns the string `\"Can you can an [STRING] as a canner can can a can?\"` (where `[STRING]` takes the value of `item`) if `item` starts with a vowel, and `\"Can you can a [STRING] as a canner can can a can?\"` otherwise. Note that the set of vowels in English is `a`, `e`, `i`, `o` and `u`, and that your function should be able to deal with both upper and lower-case letters.\n",
    "\n",
    "The following are example calls to the function (displaying the output with a `print` statement in each case), to illustrate its functionality:\n",
    "\n",
    "```python\n",
    ">>> print(canner_can2(\"can\"))\n",
    "Can you can a can as a canner can can a can?\n",
    ">>> print(canner_can2(\"apricot\"))\n",
    "Can you can an apricot as a canner can can a can?\n",
    ">>> print(canner_can2(\"AARGH\"))\n",
    "Can you can an AARGH as a canner can can a can?\n",
    ">>> print(canner_can2(\"\"))\n",
    "Can you can a as a canner can can a can?\n",
    "```\n",
    "\n",
    "> ## Seems Familiar?\n",
    "> You may recall that there was an earlier problem relating to the *a/an* distinction. You are welcome to reuse that code as part of your solution to this problem. Also note the method is an oversimplification — e.g. *a unicorn*, *an heiress*, and for some speakers *an historical event* — but it will suffice for the purposes of this question."
   ]
  },
  {
   "cell_type": "code",
   "execution_count": 13,
   "metadata": {},
   "outputs": [],
   "source": [
    "def canner_can2(item):\n",
    "    \"\"\"\" \n",
    "    canner_can takes a string item (assumed to be an animal) \n",
    "    and returns a string containing an important question about the animal \n",
    "    \"\"\"\n",
    "    # write your code here\n"
   ]
  },
  {
   "cell_type": "markdown",
   "metadata": {},
   "source": [
    "# Multi-Parameter Functions"
   ]
  },
  {
   "cell_type": "markdown",
   "metadata": {},
   "source": [
    "Both of the functions you implemented in the problems have a single parameter, but in our original example of a user-defined function (`my_first_function`), there were three parameters.\n",
    "\n",
    "So how do we define a function with two or more parameters? The answer is simple: in the function definition, we have multiple comma-separated arguments, as per our original description of a function. There are a number of things to note here:\n",
    "\n",
    "1. the parameters **must** have different names, in order to be able to tell them apart, e.g. see what happens when you try to evaluate the following function definition:\n",
    "\n",
    "```python\n",
    "def function(a, a, a):\n",
    "    return a\n",
    "```"
   ]
  },
  {
   "cell_type": "code",
   "execution_count": 14,
   "metadata": {},
   "outputs": [],
   "source": [
    "# Try running the last example here"
   ]
  },
  {
   "cell_type": "markdown",
   "metadata": {},
   "source": [
    "2. by default, the ordering of the arguments in the function call will determine what function argument is set to what value:\n"
   ]
  },
  {
   "cell_type": "code",
   "execution_count": 15,
   "metadata": {},
   "outputs": [
    {
     "name": "stdout",
     "output_type": "stream",
     "text": [
      "ba\n",
      "cb\n"
     ]
    }
   ],
   "source": [
    "def swapped_sum(a, b):\n",
    "    return b + a\n",
    "\n",
    "print(swapped_sum(\"a\", \"b\"))\n",
    "print(swapped_sum(\"b\", \"c\"))"
   ]
  },
  {
   "cell_type": "markdown",
   "metadata": {},
   "source": [
    "3. it is possible to have a function with no parameters, in which case the function definition will have empty parentheses, and any function calls will similarly have empty parentheses, e.g.:\n"
   ]
  },
  {
   "cell_type": "code",
   "execution_count": 16,
   "metadata": {},
   "outputs": [
    {
     "name": "stdout",
     "output_type": "stream",
     "text": [
      "-1\n"
     ]
    }
   ],
   "source": [
    "def error_code():\n",
    "    return -1\n",
    "\n",
    "print(error_code())"
   ]
  },
  {
   "cell_type": "markdown",
   "metadata": {},
   "source": [
    "# Naming Arguments to Functions"
   ]
  },
  {
   "cell_type": "markdown",
   "metadata": {},
   "source": [
    "When you have multiple parameters in a function, you can sometimes lose track of what order the arguments are supposed to occur in. One thing that can be helpful here is to use the parameter names as **keywords** in the function call to stipulate which argument maps onto which parameter in the function header:\n"
   ]
  },
  {
   "cell_type": "code",
   "execution_count": 17,
   "metadata": {},
   "outputs": [
    {
     "name": "stdout",
     "output_type": "stream",
     "text": [
      "Hello\n"
     ]
    }
   ],
   "source": [
    "def swapped_sum(a, b):\n",
    "    return b + a\n",
    "\n",
    "print(swapped_sum(b=\"Hel\", a=\"lo\"))"
   ]
  },
  {
   "cell_type": "markdown",
   "metadata": {},
   "source": [
    "For our current purposes, the only reason to consider using keywords would be to remind ourselves of which argument maps onto which parameter in the function definition (e.g. if the function has a lot of parameters).\n",
    "Here, care must be taken to ensure that: \n",
    "1. The keywords match with the parameter names in the function header; and\n",
    "2. If you use a keyword in the function call, all following arguments in that call must also be associated with a keyword. \n",
    "\n",
    "For example, try running the following:\n",
    "\n",
    "```python\n",
    "def swapped_sum(a, b):\n",
    "    return b + a\n",
    "print(swapped_sum(b=\"z\", \"r\"))\n",
    "```"
   ]
  },
  {
   "cell_type": "code",
   "execution_count": 18,
   "metadata": {},
   "outputs": [],
   "source": [
    "# Try running the last example here"
   ]
  },
  {
   "cell_type": "markdown",
   "metadata": {},
   "source": [
    "# Multi-functionality"
   ]
  },
  {
   "cell_type": "markdown",
   "metadata": {},
   "source": [
    "Write a function `between\\_len` that takes three arguments:\n",
    "\n",
    "1. a list `words`;\n",
    "2. an integer `minlen`; and\n",
    "3. an integer `maxlen`.\n",
    "\n",
    "\n",
    "The function should return `True` if the length of `words` is at least `minlen` and no more than `maxlen`, and `False` otherwise.\n",
    "\n",
    "For the mathematically-inclined, if $l\\_{\\small\\mbox{words}}$ is the length of the list, we are truth-evaluating the expression $\\mbox{minlen} \\le l\\_{\\small\\mbox{words}} \\le \\mbox{maxlen}$.\n",
    "\n",
    "The following are example calls to the function (displaying the output with a `print()` statement in each case), to illustrate its functionality:\n",
    "\n",
    "```python\n",
    "between_len([\"python\", \"is\", \"boring\"], 4, 7)\n",
    "False\n",
    "\n",
    "between\\_len([\"python\", \"is\", \"amazing\"], -1, 20)\n",
    "True\n",
    "\n",
    "between\\_len([\"python\", \"is\", \"amazing\"], minlen=3, maxlen=4)\n",
    "True\n",
    "```\n",
    "\n",
    "> ## Returning Booleans\n",
    "> An elegant way to return a Boolean is to return the condition directly. For example, if we wanted to test whether a number `n` is greater than `5`, this is an example of returning the value of that test directly (*très élégante!*).\n",
    "> ```python\n",
    "def isGreater(n):\n",
    "    return n > 5\n",
    "> ```\n",
    "> The following is functionally equivalent (i.e. it does exactly the same thing as the first), but with the extra unnecessary step of checking the result of the test, and explicitly returning the associate Boolean:\n",
    "> ```python\n",
    "def isGreater(n):\n",
    "    if n > 5:\n",
    "        return True\n",
    "    else:\n",
    "        return False\n",
    "> ```"
   ]
  },
  {
   "cell_type": "markdown",
   "metadata": {},
   "source": [
    "# Methods"
   ]
  },
  {
   "cell_type": "markdown",
   "metadata": {},
   "source": [
    "**Methods** are special functions that belong to specific data types. They are written and called a bit differently. An example of a method is the `upper()` method, which is specific to the `str` type, and returns the string it was called from, converted to uppercase. Watch this:\n"
   ]
  },
  {
   "cell_type": "code",
   "execution_count": 19,
   "metadata": {},
   "outputs": [
    {
     "name": "stdout",
     "output_type": "stream",
     "text": [
      "take the pie out of the oven\n",
      "TAKE THE PIE OUT OF THE OVEN\n"
     ]
    }
   ],
   "source": [
    "my_str = \"take the pie out of the oven\"\n",
    "print(my_str)\n",
    "print(my_str.upper())"
   ]
  },
  {
   "cell_type": "markdown",
   "metadata": {},
   "source": [
    "Wow, such drama! Better take the pie out of the oven, then.\n",
    "\n",
    "Let's dissect that a bit though. `upper()` is the method. It was called using the `str` object `my_str` by typing it after the string with a full-stop and some empty brackets. Just as was the case with functions, method calls always require parentheses, and if there are no (extra) arguments, the parentheses should be empty. However methods always get the object they're called from as an argument. So in this case, `upper()` received `my_str` as an argument automatically. It returns a new string which is an all-uppercase version of `my_str`. You can also do this:\n"
   ]
  },
  {
   "cell_type": "code",
   "execution_count": 20,
   "metadata": {},
   "outputs": [
    {
     "name": "stdout",
     "output_type": "stream",
     "text": [
      "GODDAMN IT, IT'S BURNT\n"
     ]
    }
   ],
   "source": [
    "print(\"goddamn it, it's burnt\".upper())"
   ]
  },
  {
   "cell_type": "markdown",
   "metadata": {},
   "source": [
    "> ## Accessing available methods\n",
    "> There are lots and lots of methods for each type. You can use the function `dir()` to find their names. E.g., try the following in the terminal: `dir(int)`, `dir(\"hello world\")`. Some of them, especially those with underscores, will be irrelevant, but some you may find useful. [Try it out!](https://www.youtube.com/watch?v=ZXsQAXx_ao0)"
   ]
  },
  {
   "cell_type": "markdown",
   "metadata": {},
   "source": [
    "# Counting Words"
   ]
  },
  {
   "cell_type": "markdown",
   "metadata": {},
   "source": [
    "Explore the methods for strings in the terminal using `dir(\"hello world\")`. With these in mind, write a function `word_count(input_str)` that takes a string as input and returns the number of words in the string. Your function should work like this:\n",
    "\n",
    "```python\n",
    ">>> word_count(\"There are 44 cows on a hill\")\n",
    "7\n",
    ">>> word_count(\"Quotes are handy things to have about, saving one from thinking for oneself which is always hard.\")\n",
    "17\n",
    ">>> word_count(\"\")\n",
    "0\n",
    "```\n",
    "\n",
    "> ## Hint\n",
    "```print(\"You're Beautiful\".split())```"
   ]
  },
  {
   "cell_type": "code",
   "execution_count": 21,
   "metadata": {},
   "outputs": [],
   "source": [
    "def word_count(input_str):\n",
    "    \"\"\" The function word_count returns the number of words in the string input_str. \"\"\"\n",
    "    # code here.\n"
   ]
  }
 ],
 "metadata": {
  "kernelspec": {
   "display_name": "Python 3 (ipykernel)",
   "language": "python",
   "name": "python3"
  },
  "language_info": {
   "codemirror_mode": {
    "name": "ipython",
    "version": 3
   },
   "file_extension": ".py",
   "mimetype": "text/x-python",
   "name": "python",
   "nbconvert_exporter": "python",
   "pygments_lexer": "ipython3",
   "version": "3.8.10"
  },
  "latex_envs": {
   "LaTeX_envs_menu_present": true,
   "autoclose": false,
   "autocomplete": true,
   "bibliofile": "biblio.bib",
   "cite_by": "apalike",
   "current_citInitial": 1,
   "eqLabelWithNumbers": true,
   "eqNumInitial": 1,
   "hotkeys": {
    "equation": "Ctrl-E",
    "itemize": "Ctrl-I"
   },
   "labels_anchors": false,
   "latex_user_defs": false,
   "report_style_numbering": false,
   "user_envs_cfg": false
  },
  "toc": {
   "base_numbering": 1,
   "nav_menu": {},
   "number_sections": true,
   "sideBar": true,
   "skip_h1_title": false,
   "title_cell": "Table of Contents",
   "title_sidebar": "Contents",
   "toc_cell": false,
   "toc_position": {},
   "toc_section_display": true,
   "toc_window_display": false
  },
  "varInspector": {
   "cols": {
    "lenName": 16,
    "lenType": 16,
    "lenVar": 40
   },
   "kernels_config": {
    "python": {
     "delete_cmd_postfix": "",
     "delete_cmd_prefix": "del ",
     "library": "var_list.py",
     "varRefreshCmd": "print(var_dic_list())"
    },
    "r": {
     "delete_cmd_postfix": ") ",
     "delete_cmd_prefix": "rm(",
     "library": "var_list.r",
     "varRefreshCmd": "cat(var_dic_list()) "
    }
   },
   "types_to_exclude": [
    "module",
    "function",
    "builtin_function_or_method",
    "instance",
    "_Feature"
   ],
   "window_display": false
  }
 },
 "nbformat": 4,
 "nbformat_minor": 1
}
