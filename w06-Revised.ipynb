{
 "cells": [
  {
   "cell_type": "markdown",
   "metadata": {},
   "source": [
    "# f-strings"
   ]
  },
  {
   "cell_type": "markdown",
   "metadata": {},
   "source": [
    "An important trick to learn is how to format strings. When printing out the result of some calculation, e.g. combining together some description of what the calculation was and the variables involved, we have seen two options to date: (1) the `print` function with multiple arguments; and (2) string concatenation, e.g.:\n"
   ]
  },
  {
   "cell_type": "code",
   "execution_count": null,
   "metadata": {},
   "outputs": [],
   "source": [
    "num1 = 5\n",
    "num2 = 6.7\n",
    "print(\"The quotient of \" + str(num1) + \" and \" + str(num2) + \" is \" + str(num1/num2))\n",
    "print(\"The quotient of\", num1, \"and\", num2, \"is\", num1/num2)"
   ]
  },
  {
   "cell_type": "markdown",
   "metadata": {},
   "source": [
    "\n",
    "There are issues/limitations associated with both of these approaches, however: string concatenation involves converting every value to a string, which is tedious; we have no way of controlling the level of \"precision\" (i.e. number of decimal places a given <code data-lang=\"py3\">float</code> is printed to) or rendering of the value (e.g. right-justifying an <code data-lang=\"py3\">int</code> in a 10-character window); and <code data-lang=\"py3\">print</code> with multiple arguments inserts a space between each pair of arguments (a behaviour we can actually change, but this is another detail to worry about).\n",
    "\n",
    "\n",
    "\n",
    "An alternative, more powerful way of formatting strings is with **f-strings**, in which the string is prefixed with `f`, and variable names/statements are inserted directly into the braces, e.g.:\n"
   ]
  },
  {
   "cell_type": "code",
   "execution_count": null,
   "metadata": {},
   "outputs": [],
   "source": [
    "num1 = 5\n",
    "num2 = 6.7\n",
    "print(f\"The quotient of {num1} and {num2} is {num1/num2:.2f}\")"
   ]
  },
  {
   "cell_type": "markdown",
   "metadata": {},
   "source": [
    "\n",
    "We discuss how to use the f-strings in the following slides."
   ]
  },
  {
   "cell_type": "markdown",
   "metadata": {},
   "source": [
    "# Simple Example of f-strings"
   ]
  },
  {
   "cell_type": "markdown",
   "metadata": {},
   "source": [
    "Let's start with a simple example:\n"
   ]
  },
  {
   "cell_type": "code",
   "execution_count": null,
   "metadata": {},
   "outputs": [],
   "source": [
    "print(f'I own {10} horses')"
   ]
  },
  {
   "cell_type": "markdown",
   "metadata": {},
   "source": [
    "\n",
    "In this example, the **f-string** is `f'I own {10} horses'`. The f-string works by generating a new string which substitutes a value in place of each set of curly-braces in the f-string. The curly braces `{}` are used to tell the f-string where in the string the value should go. The value inside the curly braces `10` tells the f-string what value should go in that position. Try modifying the above example to print `I own 24 horses` or `I own 10 cows`.\n"
   ]
  },
  {
   "cell_type": "markdown",
   "metadata": {},
   "source": [
    "# Floating Point Formatting"
   ]
  },
  {
   "cell_type": "markdown",
   "metadata": {},
   "source": [
    "For floating point numbers (i.e. numbers of type `float`), Python has even finer control. The format specifier `{:6.2f}` tells the f-string to use at least 6 characters in total and use <emph>exactly</emph> two digits after the decimal point. Here are two examples:\n"
   ]
  },
  {
   "cell_type": "code",
   "execution_count": null,
   "metadata": {},
   "outputs": [],
   "source": [
    "print(f'{3.1415926:<6.2f}')  # pad on the right\n",
    "print(f'{3.1415926:6.2f}')   # pad on the left"
   ]
  },
  {
   "cell_type": "markdown",
   "metadata": {},
   "source": [
    "\n",
    "You can also specify a maximum number of characters for a string using the decimal place notation:\n"
   ]
  },
  {
   "cell_type": "code",
   "execution_count": null,
   "metadata": {},
   "outputs": [],
   "source": [
    "print(f'{\"big long string\":>5.2}')\n",
    "print(f'{\"big long string\":5.5}')"
   ]
  },
  {
   "cell_type": "markdown",
   "metadata": {},
   "source": [
    "\n",
    "Unpacking the format specifier, in the first case, the output is to be right-justified, padded up to 5 characters, and a maximum of 2 characters for the string it is applied to, leading to the indicated output."
   ]
  },
  {
   "cell_type": "markdown",
   "metadata": {},
   "source": [
    "# Formatting Different Types"
   ]
  },
  {
   "cell_type": "markdown",
   "metadata": {},
   "source": [
    "In addition, f-strings have the ability to embed *type* specifiers as a suffix in the format specifier. For example, in the following case:\n"
   ]
  },
  {
   "cell_type": "code",
   "execution_count": null,
   "metadata": {},
   "outputs": [],
   "source": [
    "print(f'strings: {\"9743\":>7s}')"
   ]
  },
  {
   "cell_type": "markdown",
   "metadata": {},
   "source": [
    "`>7` indicates that the argument should be right-justified (`>`) in a window of 7 characters (`7`), and the final `s` indicates that the argument is a string (i.e. simply acts as a type check in this instance). More interesting examples of type specifiers are `g` (render a float using \"optimal\" notation, using an \"appropriate\" number of decimal places, depending on the value),  `b` (render as a [binary number](https://en.wikipedia.org/wiki/Binary_number)), `x` (render as a [hexadecimal number](https://en.wikipedia.org/wiki/Hexadecimal)), and `c` (map an integer to a Unicode code point):\n"
   ]
  },
  {
   "cell_type": "code",
   "execution_count": null,
   "metadata": {},
   "outputs": [],
   "source": [
    "print(f'\"optimal\" rendering of 2/2: {2/2:g}')\n",
    "print(f'\"optimal\" rendering of 3/2: {3/2:g}')\n",
    "print(f'\"optimal\" rendering of 1/3: {1/3:g}')\n",
    "print(f'binary rendering of 9743: {9743:b}')\n",
    "print(f'integer base 16 rendering of 9743: {9743:x}')\n",
    "print(f'Call me on my {9743:c}')  # yes, it's a telephone"
   ]
  },
  {
   "cell_type": "markdown",
   "metadata": {},
   "source": [
    "\n",
    "> ## Hint\n",
    "> The `\"{:c}\"` format string is pretty cool. It expects an integer and converts it to a special character as indicated in this [table](http://www.charbase.com/260f-unicode-white-telephone). These are called **Unicode characters**.Try printing Ӝ — it's a Cyrillic capital Zhe with diaeresis (Hint: its Unicode \"code point\" number is 1244) — or this Tamil year sign: ௵ (number 3061).\n"
   ]
  },
  {
   "cell_type": "markdown",
   "metadata": {},
   "source": [
    "# Expressions as Arguments"
   ]
  },
  {
   "cell_type": "markdown",
   "metadata": {},
   "source": [
    "You could be forgiven for questioning why f-strings insists on the colon before the format specification (e.g. `.2f`). The answer is that it uses the colon as a delimiter to separate the argument from the format specifier. In all of our examples to date, the argument has been a literal (something you hopefully cringed at in the last slide, when we had the same literal twice in a string, rather than a variable), but it can also be a variable or an arbitrary expression; in the absence of a colon, it is interpreted as a statement by Python, e.g.:\n"
   ]
  },
  {
   "cell_type": "code",
   "execution_count": null,
   "metadata": {},
   "outputs": [],
   "source": [
    "mystr = \"Hi Ho!\"\n",
    "print(f\"\\\"{mystr} {mystr} It's off to work we go!\\\", sang the {42/6:g} dwarves.\")\n",
    "t1 = \"Tweedledum\"\n",
    "t2 = \"Tweedledee\"\n",
    "print(f\"\"\"{t1} and {t2}\n",
    "    Agreed to have a battle;\n",
    "For {t1} said {t2}\n",
    "    Had spoiled his nice new rattle.\"\"\")"
   ]
  },
  {
   "cell_type": "markdown",
   "metadata": {},
   "source": [
    "\n",
    "There's a lot more to f-strings than we can do justice to in our short introduction, although these basics are generally enough for most contexts. If you are brave enough, take a look at the [Python documentation for f-strings.](https://www.python.org/dev/peps/pep-0498/) "
   ]
  },
  {
   "cell_type": "markdown",
   "metadata": {},
   "source": [
    "# Dodgy Brothers' Dozen"
   ]
  },
  {
   "cell_type": "markdown",
   "metadata": {},
   "source": [
    "It is a common practice in retail to offer discounts on the unit price for bulk purchases, and an expectation that when the prices for a given item are advertised on a per-item and bulk manner, the bulk price will be cheaper. Unscrupulous operators such as [the Dodgy Brothers](https://en.wikipedia.org/wiki/Australia\\_You%27re\\_Standing\\_In\\_It) can sometimes abuse this expectation, in marking up the bulk price for the unwary.\n",
    "\n",
    "Write a function `dodgy_markup(price)` which takes a single (non-negative) float argument `price`, and uses a single f-string to return a string of the following form, where the unit-price is set to `price`, and the per-dozen price is set to `price` multiplied by 12, with a 10% markup. Note that all prices must be presented in dollars and cents (i.e. to exactly two-decimal places). For example:\n",
    "\n",
    "```python\n",
    ">>> dodgy_markup(.20)\n",
    "'$0.20 each, or a crazy, crazy $2.64 per dozen!'\n",
    ">>> dodgy_markup(1)\n",
    "'$1.00 each, or a crazy, crazy $13.20 per dozen!'\n",
    "```"
   ]
  },
  {
   "cell_type": "code",
   "execution_count": null,
   "metadata": {},
   "outputs": [],
   "source": [
    "# write your code here"
   ]
  },
  {
   "cell_type": "markdown",
   "metadata": {},
   "source": [
    "# Dodgy Brothers Price List"
   ]
  },
  {
   "cell_type": "markdown",
   "metadata": {},
   "source": [
    "The Dodgy Brothers sell a remarkable array of objects, all of dubious nature, and all at outlandish prices. To help them stay on top of their inventory, write a function `dodgy_inventorise(item)` which takes a single tuple argument `item` (containing an item description, price, and volume, respectively), and uses an f-string to present the item as a fixed-width column, where the item name is up to 20 characters (with any additional characters ignored) and left-justified, the price is up to 10 characters (in dollars and cents) and right-justified, and the volume is up to 6 characters and right-justified. You can assume that all prices are under $10,000,000, and all volumes are integers, under 100000. For example:\n",
    "\n",
    "```python\n",
    ">>> dodgy_inventorise((\"rust bucket car\", 150000, 1))\n",
    "'rust bucket car 150000.00 1'\n",
    ">>> dodgy_inventorise((\"chunky, chunky, chunky custard\", 4.5, 10000))\n",
    "'chunky, chunky, chun 4.50 10000'\n",
    "```"
   ]
  },
  {
   "cell_type": "code",
   "execution_count": null,
   "metadata": {},
   "outputs": [],
   "source": [
    "# write your code here"
   ]
  }
 ],
 "metadata": {
  "kernelspec": {
   "display_name": "Python 3 (ipykernel)",
   "language": "python",
   "name": "python3"
  },
  "language_info": {
   "codemirror_mode": {
    "name": "ipython",
    "version": 3
   },
   "file_extension": ".py",
   "mimetype": "text/x-python",
   "name": "python",
   "nbconvert_exporter": "python",
   "pygments_lexer": "ipython3",
   "version": "3.8.10"
  },
  "latex_envs": {
   "LaTeX_envs_menu_present": true,
   "autoclose": false,
   "autocomplete": true,
   "bibliofile": "biblio.bib",
   "cite_by": "apalike",
   "current_citInitial": 1,
   "eqLabelWithNumbers": true,
   "eqNumInitial": 1,
   "hotkeys": {
    "equation": "Ctrl-E",
    "itemize": "Ctrl-I"
   },
   "labels_anchors": false,
   "latex_user_defs": false,
   "report_style_numbering": false,
   "user_envs_cfg": false
  },
  "toc": {
   "base_numbering": 1,
   "nav_menu": {},
   "number_sections": true,
   "sideBar": true,
   "skip_h1_title": false,
   "title_cell": "Table of Contents",
   "title_sidebar": "Contents",
   "toc_cell": false,
   "toc_position": {},
   "toc_section_display": true,
   "toc_window_display": false
  },
  "varInspector": {
   "cols": {
    "lenName": 16,
    "lenType": 16,
    "lenVar": 40
   },
   "kernels_config": {
    "python": {
     "delete_cmd_postfix": "",
     "delete_cmd_prefix": "del ",
     "library": "var_list.py",
     "varRefreshCmd": "print(var_dic_list())"
    },
    "r": {
     "delete_cmd_postfix": ") ",
     "delete_cmd_prefix": "rm(",
     "library": "var_list.r",
     "varRefreshCmd": "cat(var_dic_list()) "
    }
   },
   "types_to_exclude": [
    "module",
    "function",
    "builtin_function_or_method",
    "instance",
    "_Feature"
   ],
   "window_display": false
  }
 },
 "nbformat": 4,
 "nbformat_minor": 1
}
